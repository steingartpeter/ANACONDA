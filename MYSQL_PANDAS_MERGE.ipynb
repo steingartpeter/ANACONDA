{
 "cells": [
  {
   "cell_type": "markdown",
   "metadata": {},
   "source": [
    "# DATA HANDLING WITH PANDAS"
   ]
  },
  {
   "cell_type": "markdown",
   "metadata": {},
   "source": [
    "<section>There is 3 steps which always must be done when we handle data in pandas:</section>\n",
    "<ol>\n",
    "    <li>DATA PREPARITION</li>\n",
    "    <li>DATA TRANSFORMATION</li>\n",
    "    <li>DATA AGGREGATION</li>\n",
    "</ol>"
   ]
  },
  {
   "cell_type": "markdown",
   "metadata": {},
   "source": [
    "## DATA PREPARITION"
   ]
  },
  {
   "cell_type": "markdown",
   "metadata": {},
   "source": [
    "Mostly this kind of operations are invlved:\n",
    "<ol>\n",
    "    <li>Loading</li>\n",
    "    <li>Assembling</li>\n",
    "    <li><b><u>Merging</u></b></li>\n",
    "    <li>Concatenating</li>\n",
    "    <li>Combining</li>\n",
    "    <li>Reshaping</li>\n",
    "    <li>Removing</li>\n",
    "</ol>\n"
   ]
  },
  {
   "cell_type": "code",
   "execution_count": 68,
   "metadata": {},
   "outputs": [],
   "source": [
    "import numpy as np\n",
    "import pandas as pd\n",
    "import mysql.connector as mysql\n",
    "import matplotlib.pyplot as plt\n",
    "import seaborn as sns\n",
    "dbCon = mysql.connect(host='localhost',user='root',password='AN003722040592la',database='sap_export_30')\n",
    "# qry = \"SELECT * FROM ltap LIMIT 100\"\n",
    "qry = \"SELECT * FROM hr_dev.berkatok;\"\n",
    "dfto = pd.read_sql(qry,dbCon)\n",
    "#qry = \"SELECT * FROM invntry.usr_tbl;\"\n",
    "qry = \"SELECT * FROM invntry.usr_tbl;\"\n",
    "dfusr = pd.read_sql(qry,dbCon)"
   ]
  },
  {
   "cell_type": "code",
   "execution_count": 2,
   "metadata": {},
   "outputs": [
    {
     "data": {
      "text/html": [
       "<div>\n",
       "<style scoped>\n",
       "    .dataframe tbody tr th:only-of-type {\n",
       "        vertical-align: middle;\n",
       "    }\n",
       "\n",
       "    .dataframe tbody tr th {\n",
       "        vertical-align: top;\n",
       "    }\n",
       "\n",
       "    .dataframe thead th {\n",
       "        text-align: right;\n",
       "    }\n",
       "</style>\n",
       "<table border=\"1\" class=\"dataframe\">\n",
       "  <thead>\n",
       "    <tr style=\"text-align: right;\">\n",
       "      <th></th>\n",
       "      <th>mrkt_id</th>\n",
       "      <th>mrkt_lrs</th>\n",
       "    </tr>\n",
       "  </thead>\n",
       "  <tbody>\n",
       "    <tr>\n",
       "      <th>0</th>\n",
       "      <td>1</td>\n",
       "      <td>[72, 97, 118, 105, 98, 195, 169, 114, 101, 115]</td>\n",
       "    </tr>\n",
       "    <tr>\n",
       "      <th>1</th>\n",
       "      <td>2</td>\n",
       "      <td>[195, 147, 114, 97, 98, 195, 169, 114, 101, 115]</td>\n",
       "    </tr>\n",
       "    <tr>\n",
       "      <th>2</th>\n",
       "      <td>3</td>\n",
       "      <td>[70, 105, 120, 32, 98, 195, 169, 114, 101, 115]</td>\n",
       "    </tr>\n",
       "    <tr>\n",
       "      <th>3</th>\n",
       "      <td>4</td>\n",
       "      <td>[69, 103, 121, 195, 169, 98, 32, 98, 195, 169,...</td>\n",
       "    </tr>\n",
       "    <tr>\n",
       "      <th>4</th>\n",
       "      <td>999</td>\n",
       "      <td>[77, 101, 103, 104, 97, 116, 195, 161, 114, 11...</td>\n",
       "    </tr>\n",
       "  </tbody>\n",
       "</table>\n",
       "</div>"
      ],
      "text/plain": [
       "   mrkt_id                                           mrkt_lrs\n",
       "0        1    [72, 97, 118, 105, 98, 195, 169, 114, 101, 115]\n",
       "1        2   [195, 147, 114, 97, 98, 195, 169, 114, 101, 115]\n",
       "2        3    [70, 105, 120, 32, 98, 195, 169, 114, 101, 115]\n",
       "3        4  [69, 103, 121, 195, 169, 98, 32, 98, 195, 169,...\n",
       "4      999  [77, 101, 103, 104, 97, 116, 195, 161, 114, 11..."
      ]
     },
     "execution_count": 2,
     "metadata": {},
     "output_type": "execute_result"
    }
   ],
   "source": [
    "dfto.head()"
   ]
  },
  {
   "cell_type": "code",
   "execution_count": 3,
   "metadata": {},
   "outputs": [],
   "source": [
    "# Kind of interesting thing:\n",
    "# is the databse has collation: bi [= bINARY] then we getback\n",
    "# BYTEARRAY, an not sting, here we convert them back to strings \n",
    "# dfusr['saplogin'] = dfusr['saplogin'].str.decode('utf-8')\n",
    "# dfusr['teljNev'] = dfusr['teljNev'].str.decode('utf-8')\n",
    "# dfusr['teamNev'] = dfusr['teamNev'].str.decode('utf-8')"
   ]
  },
  {
   "cell_type": "code",
   "execution_count": 4,
   "metadata": {},
   "outputs": [
    {
     "data": {
      "text/html": [
       "<div>\n",
       "<style scoped>\n",
       "    .dataframe tbody tr th:only-of-type {\n",
       "        vertical-align: middle;\n",
       "    }\n",
       "\n",
       "    .dataframe tbody tr th {\n",
       "        vertical-align: top;\n",
       "    }\n",
       "\n",
       "    .dataframe thead th {\n",
       "        text-align: right;\n",
       "    }\n",
       "</style>\n",
       "<table border=\"1\" class=\"dataframe\">\n",
       "  <thead>\n",
       "    <tr style=\"text-align: right;\">\n",
       "      <th></th>\n",
       "      <th>usr_id</th>\n",
       "      <th>usripn</th>\n",
       "      <th>usrVezNev</th>\n",
       "      <th>usrKzpNev</th>\n",
       "      <th>usrKerNev</th>\n",
       "      <th>usr_role</th>\n",
       "      <th>pwd_hash</th>\n",
       "      <th>lvl1MngId</th>\n",
       "      <th>usr_email</th>\n",
       "      <th>init_ltrs_code</th>\n",
       "      <th>is_active</th>\n",
       "      <th>is_present</th>\n",
       "      <th>cntr_type</th>\n",
       "      <th>is_avlbl_for_cnt</th>\n",
       "      <th>img_path</th>\n",
       "    </tr>\n",
       "  </thead>\n",
       "  <tbody>\n",
       "    <tr>\n",
       "      <th>0</th>\n",
       "      <td>1</td>\n",
       "      <td>AX07055</td>\n",
       "      <td>Antal</td>\n",
       "      <td>Ildikó</td>\n",
       "      <td>Ágnes</td>\n",
       "      <td>8</td>\n",
       "      <td>C70B5DD9EBFB6F51D09D4132B7170C9D20750A7852F006...</td>\n",
       "      <td>1</td>\n",
       "      <td>agnes.antal@reanult.hu</td>\n",
       "      <td>AAL</td>\n",
       "      <td>1</td>\n",
       "      <td>1</td>\n",
       "      <td>-1</td>\n",
       "      <td>1</td>\n",
       "      <td>/INVNTRY_02/PIX/USRS/antal_agnes.jpg</td>\n",
       "    </tr>\n",
       "    <tr>\n",
       "      <th>1</th>\n",
       "      <td>2</td>\n",
       "      <td>AX07206</td>\n",
       "      <td>Árvai</td>\n",
       "      <td></td>\n",
       "      <td>László</td>\n",
       "      <td>1</td>\n",
       "      <td>C70B5DD9EBFB6F51D09D4132B7170C9D20750A7852F006...</td>\n",
       "      <td>1</td>\n",
       "      <td>laszlo.arvai@reanult.hu</td>\n",
       "      <td>LAI</td>\n",
       "      <td>1</td>\n",
       "      <td>1</td>\n",
       "      <td>2</td>\n",
       "      <td>1</td>\n",
       "      <td>/INVNTRY_02/PIX/USRS/arvai_laszlo.jpg</td>\n",
       "    </tr>\n",
       "    <tr>\n",
       "      <th>2</th>\n",
       "      <td>3</td>\n",
       "      <td>AX07207</td>\n",
       "      <td>Avar</td>\n",
       "      <td></td>\n",
       "      <td>Péter</td>\n",
       "      <td>2</td>\n",
       "      <td>C70B5DD9EBFB6F51D09D4132B7170C9D20750A7852F006...</td>\n",
       "      <td>1</td>\n",
       "      <td>peter.avar@reanult.hu</td>\n",
       "      <td>PAR</td>\n",
       "      <td>1</td>\n",
       "      <td>1</td>\n",
       "      <td>4</td>\n",
       "      <td>1</td>\n",
       "      <td>/INVNTRY_02/PIX/USRS/avar_peter.jpg</td>\n",
       "    </tr>\n",
       "    <tr>\n",
       "      <th>3</th>\n",
       "      <td>4</td>\n",
       "      <td>AX22816</td>\n",
       "      <td>Babiák</td>\n",
       "      <td></td>\n",
       "      <td>Nikoleta</td>\n",
       "      <td>5</td>\n",
       "      <td>C70B5DD9EBFB6F51D09D4132B7170C9D20750A7852F006...</td>\n",
       "      <td>1</td>\n",
       "      <td>nikoleta.babiak@reanult.hu</td>\n",
       "      <td>NBK</td>\n",
       "      <td>1</td>\n",
       "      <td>1</td>\n",
       "      <td>0</td>\n",
       "      <td>1</td>\n",
       "      <td>/INVNTRY_02/PIX/USRS/ACE_FEMALE.jpg</td>\n",
       "    </tr>\n",
       "    <tr>\n",
       "      <th>4</th>\n",
       "      <td>5</td>\n",
       "      <td>AX16747</td>\n",
       "      <td>Bakos</td>\n",
       "      <td></td>\n",
       "      <td>Szabolcs</td>\n",
       "      <td>1</td>\n",
       "      <td>C70B5DD9EBFB6F51D09D4132B7170C9D20750A7852F006...</td>\n",
       "      <td>1</td>\n",
       "      <td>szabolcs.bakos@reanult.hu</td>\n",
       "      <td>SBS</td>\n",
       "      <td>1</td>\n",
       "      <td>1</td>\n",
       "      <td>3</td>\n",
       "      <td>1</td>\n",
       "      <td>/INVNTRY_02/PIX/USRS/bakos_szabolcs.jpg</td>\n",
       "    </tr>\n",
       "  </tbody>\n",
       "</table>\n",
       "</div>"
      ],
      "text/plain": [
       "   usr_id   usripn usrVezNev usrKzpNev usrKerNev  usr_role  \\\n",
       "0       1  AX07055     Antal    Ildikó     Ágnes         8   \n",
       "1       2  AX07206     Árvai              László         1   \n",
       "2       3  AX07207      Avar               Péter         2   \n",
       "3       4  AX22816    Babiák            Nikoleta         5   \n",
       "4       5  AX16747     Bakos            Szabolcs         1   \n",
       "\n",
       "                                            pwd_hash  lvl1MngId  \\\n",
       "0  C70B5DD9EBFB6F51D09D4132B7170C9D20750A7852F006...          1   \n",
       "1  C70B5DD9EBFB6F51D09D4132B7170C9D20750A7852F006...          1   \n",
       "2  C70B5DD9EBFB6F51D09D4132B7170C9D20750A7852F006...          1   \n",
       "3  C70B5DD9EBFB6F51D09D4132B7170C9D20750A7852F006...          1   \n",
       "4  C70B5DD9EBFB6F51D09D4132B7170C9D20750A7852F006...          1   \n",
       "\n",
       "                    usr_email init_ltrs_code  is_active  is_present  \\\n",
       "0      agnes.antal@reanult.hu            AAL          1           1   \n",
       "1     laszlo.arvai@reanult.hu            LAI          1           1   \n",
       "2       peter.avar@reanult.hu            PAR          1           1   \n",
       "3  nikoleta.babiak@reanult.hu            NBK          1           1   \n",
       "4   szabolcs.bakos@reanult.hu            SBS          1           1   \n",
       "\n",
       "   cntr_type  is_avlbl_for_cnt                                 img_path  \n",
       "0         -1                 1     /INVNTRY_02/PIX/USRS/antal_agnes.jpg  \n",
       "1          2                 1    /INVNTRY_02/PIX/USRS/arvai_laszlo.jpg  \n",
       "2          4                 1      /INVNTRY_02/PIX/USRS/avar_peter.jpg  \n",
       "3          0                 1      /INVNTRY_02/PIX/USRS/ACE_FEMALE.jpg  \n",
       "4          3                 1  /INVNTRY_02/PIX/USRS/bakos_szabolcs.jpg  "
      ]
     },
     "execution_count": 4,
     "metadata": {},
     "output_type": "execute_result"
    }
   ],
   "source": [
    "dfusr.head()"
   ]
  },
  {
   "cell_type": "code",
   "execution_count": 5,
   "metadata": {},
   "outputs": [
    {
     "data": {
      "text/plain": [
       "<bound method DataFrame.info of    mrkt_id                                           mrkt_lrs\n",
       "0        1    [72, 97, 118, 105, 98, 195, 169, 114, 101, 115]\n",
       "1        2   [195, 147, 114, 97, 98, 195, 169, 114, 101, 115]\n",
       "2        3    [70, 105, 120, 32, 98, 195, 169, 114, 101, 115]\n",
       "3        4  [69, 103, 121, 195, 169, 98, 32, 98, 195, 169,...\n",
       "4      999  [77, 101, 103, 104, 97, 116, 195, 161, 114, 11...>"
      ]
     },
     "execution_count": 5,
     "metadata": {},
     "output_type": "execute_result"
    }
   ],
   "source": [
    "dfto.head(1)\n",
    "dfto.info"
   ]
  },
  {
   "cell_type": "code",
   "execution_count": 6,
   "metadata": {},
   "outputs": [],
   "source": [
    "# pd.merge(dfto,dfusr,left_on='cnfUsr',right_on='saplogin')"
   ]
  },
  {
   "cell_type": "code",
   "execution_count": 7,
   "metadata": {},
   "outputs": [],
   "source": [
    "# MERGE = JOIN\n",
    "# Syntax:\n",
    "# pd.merge(Table_A, Table_B,columnA,columnB,[left,right,outer,inner])\n",
    "# dfMrgd = pd.merge(dfto,dfusr,left_on='cnfUsr',right_on='saplogin')\n",
    "# dfMrgd = pd.merge(dfto,dfusr,left_on='cnfUsr',right_on='saplogin',how='right')\n",
    "# dfMrgd = pd.merge(dfto,dfusr,left_on='cnfUsr',right_on='saplogin',how='left')"
   ]
  },
  {
   "cell_type": "code",
   "execution_count": 8,
   "metadata": {},
   "outputs": [],
   "source": [
    "# dfMrgd.head()"
   ]
  },
  {
   "cell_type": "code",
   "execution_count": 9,
   "metadata": {},
   "outputs": [],
   "source": [
    "# dfMrgd.info()\n",
    "# dfMrgd.shape"
   ]
  },
  {
   "cell_type": "markdown",
   "metadata": {},
   "source": [
    "## Lets see some PIVOTing"
   ]
  },
  {
   "cell_type": "markdown",
   "metadata": {},
   "source": [
    "<em style=\"font-weight:bold;color:#FF6666;font-size:18px;\">Stacking</em> = rotates of pivots the dataframe, converting columns to rows<br>\n",
    "<em style=\"font-weight:bold;color:#FF6666;font-size:18px;\">Unstacking</em> = Converts rows into columns"
   ]
  },
  {
   "cell_type": "code",
   "execution_count": 10,
   "metadata": {},
   "outputs": [],
   "source": [
    "frame = pd.DataFrame(np.arange(9).reshape(3,3),index=['fehér','fekete','vörös'],columns=['labda','toll','ceruza'])"
   ]
  },
  {
   "cell_type": "code",
   "execution_count": 11,
   "metadata": {},
   "outputs": [
    {
     "data": {
      "text/html": [
       "<div>\n",
       "<style scoped>\n",
       "    .dataframe tbody tr th:only-of-type {\n",
       "        vertical-align: middle;\n",
       "    }\n",
       "\n",
       "    .dataframe tbody tr th {\n",
       "        vertical-align: top;\n",
       "    }\n",
       "\n",
       "    .dataframe thead th {\n",
       "        text-align: right;\n",
       "    }\n",
       "</style>\n",
       "<table border=\"1\" class=\"dataframe\">\n",
       "  <thead>\n",
       "    <tr style=\"text-align: right;\">\n",
       "      <th></th>\n",
       "      <th>labda</th>\n",
       "      <th>toll</th>\n",
       "      <th>ceruza</th>\n",
       "    </tr>\n",
       "  </thead>\n",
       "  <tbody>\n",
       "    <tr>\n",
       "      <th>fehér</th>\n",
       "      <td>0</td>\n",
       "      <td>1</td>\n",
       "      <td>2</td>\n",
       "    </tr>\n",
       "    <tr>\n",
       "      <th>fekete</th>\n",
       "      <td>3</td>\n",
       "      <td>4</td>\n",
       "      <td>5</td>\n",
       "    </tr>\n",
       "    <tr>\n",
       "      <th>vörös</th>\n",
       "      <td>6</td>\n",
       "      <td>7</td>\n",
       "      <td>8</td>\n",
       "    </tr>\n",
       "  </tbody>\n",
       "</table>\n",
       "</div>"
      ],
      "text/plain": [
       "        labda  toll  ceruza\n",
       "fehér       0     1       2\n",
       "fekete      3     4       5\n",
       "vörös       6     7       8"
      ]
     },
     "execution_count": 11,
     "metadata": {},
     "output_type": "execute_result"
    }
   ],
   "source": [
    "frame"
   ]
  },
  {
   "cell_type": "code",
   "execution_count": 12,
   "metadata": {},
   "outputs": [],
   "source": [
    "ser5 = frame.stack()"
   ]
  },
  {
   "cell_type": "code",
   "execution_count": 13,
   "metadata": {},
   "outputs": [
    {
     "data": {
      "text/plain": [
       "fehér   labda     0\n",
       "        toll      1\n",
       "        ceruza    2\n",
       "fekete  labda     3\n",
       "        toll      4\n",
       "        ceruza    5\n",
       "vörös   labda     6\n",
       "        toll      7\n",
       "        ceruza    8\n",
       "dtype: int64"
      ]
     },
     "execution_count": 13,
     "metadata": {},
     "output_type": "execute_result"
    }
   ],
   "source": [
    "ser5"
   ]
  },
  {
   "cell_type": "code",
   "execution_count": 14,
   "metadata": {},
   "outputs": [],
   "source": [
    "ser6 = frame.unstack()"
   ]
  },
  {
   "cell_type": "code",
   "execution_count": 15,
   "metadata": {},
   "outputs": [
    {
     "data": {
      "text/plain": [
       "labda   fehér     0\n",
       "        fekete    3\n",
       "        vörös     6\n",
       "toll    fehér     1\n",
       "        fekete    4\n",
       "        vörös     7\n",
       "ceruza  fehér     2\n",
       "        fekete    5\n",
       "        vörös     8\n",
       "dtype: int64"
      ]
     },
     "execution_count": 15,
     "metadata": {},
     "output_type": "execute_result"
    }
   ],
   "source": [
    "ser6"
   ]
  },
  {
   "cell_type": "code",
   "execution_count": 16,
   "metadata": {},
   "outputs": [],
   "source": [
    "ser7 = ser5.unstack()"
   ]
  },
  {
   "cell_type": "code",
   "execution_count": 17,
   "metadata": {},
   "outputs": [
    {
     "data": {
      "text/html": [
       "<div>\n",
       "<style scoped>\n",
       "    .dataframe tbody tr th:only-of-type {\n",
       "        vertical-align: middle;\n",
       "    }\n",
       "\n",
       "    .dataframe tbody tr th {\n",
       "        vertical-align: top;\n",
       "    }\n",
       "\n",
       "    .dataframe thead th {\n",
       "        text-align: right;\n",
       "    }\n",
       "</style>\n",
       "<table border=\"1\" class=\"dataframe\">\n",
       "  <thead>\n",
       "    <tr style=\"text-align: right;\">\n",
       "      <th></th>\n",
       "      <th>labda</th>\n",
       "      <th>toll</th>\n",
       "      <th>ceruza</th>\n",
       "    </tr>\n",
       "  </thead>\n",
       "  <tbody>\n",
       "    <tr>\n",
       "      <th>fehér</th>\n",
       "      <td>0</td>\n",
       "      <td>1</td>\n",
       "      <td>2</td>\n",
       "    </tr>\n",
       "    <tr>\n",
       "      <th>fekete</th>\n",
       "      <td>3</td>\n",
       "      <td>4</td>\n",
       "      <td>5</td>\n",
       "    </tr>\n",
       "    <tr>\n",
       "      <th>vörös</th>\n",
       "      <td>6</td>\n",
       "      <td>7</td>\n",
       "      <td>8</td>\n",
       "    </tr>\n",
       "  </tbody>\n",
       "</table>\n",
       "</div>"
      ],
      "text/plain": [
       "        labda  toll  ceruza\n",
       "fehér       0     1       2\n",
       "fekete      3     4       5\n",
       "vörös       6     7       8"
      ]
     },
     "execution_count": 17,
     "metadata": {},
     "output_type": "execute_result"
    }
   ],
   "source": [
    "ser7"
   ]
  },
  {
   "cell_type": "code",
   "execution_count": 18,
   "metadata": {},
   "outputs": [],
   "source": [
    "ser8 = ser5.unstack(0)"
   ]
  },
  {
   "cell_type": "code",
   "execution_count": 19,
   "metadata": {},
   "outputs": [
    {
     "data": {
      "text/html": [
       "<div>\n",
       "<style scoped>\n",
       "    .dataframe tbody tr th:only-of-type {\n",
       "        vertical-align: middle;\n",
       "    }\n",
       "\n",
       "    .dataframe tbody tr th {\n",
       "        vertical-align: top;\n",
       "    }\n",
       "\n",
       "    .dataframe thead th {\n",
       "        text-align: right;\n",
       "    }\n",
       "</style>\n",
       "<table border=\"1\" class=\"dataframe\">\n",
       "  <thead>\n",
       "    <tr style=\"text-align: right;\">\n",
       "      <th></th>\n",
       "      <th>fehér</th>\n",
       "      <th>fekete</th>\n",
       "      <th>vörös</th>\n",
       "    </tr>\n",
       "  </thead>\n",
       "  <tbody>\n",
       "    <tr>\n",
       "      <th>labda</th>\n",
       "      <td>0</td>\n",
       "      <td>3</td>\n",
       "      <td>6</td>\n",
       "    </tr>\n",
       "    <tr>\n",
       "      <th>toll</th>\n",
       "      <td>1</td>\n",
       "      <td>4</td>\n",
       "      <td>7</td>\n",
       "    </tr>\n",
       "    <tr>\n",
       "      <th>ceruza</th>\n",
       "      <td>2</td>\n",
       "      <td>5</td>\n",
       "      <td>8</td>\n",
       "    </tr>\n",
       "  </tbody>\n",
       "</table>\n",
       "</div>"
      ],
      "text/plain": [
       "        fehér  fekete  vörös\n",
       "labda       0       3      6\n",
       "toll        1       4      7\n",
       "ceruza      2       5      8"
      ]
     },
     "execution_count": 19,
     "metadata": {},
     "output_type": "execute_result"
    }
   ],
   "source": [
    "ser8"
   ]
  },
  {
   "cell_type": "code",
   "execution_count": 20,
   "metadata": {},
   "outputs": [],
   "source": [
    "# In case of unstack we can give the number of the column genertor index among the hierarchical indices\n",
    "ser8 = ser5.unstack(1)"
   ]
  },
  {
   "cell_type": "code",
   "execution_count": 21,
   "metadata": {},
   "outputs": [
    {
     "data": {
      "text/html": [
       "<div>\n",
       "<style scoped>\n",
       "    .dataframe tbody tr th:only-of-type {\n",
       "        vertical-align: middle;\n",
       "    }\n",
       "\n",
       "    .dataframe tbody tr th {\n",
       "        vertical-align: top;\n",
       "    }\n",
       "\n",
       "    .dataframe thead th {\n",
       "        text-align: right;\n",
       "    }\n",
       "</style>\n",
       "<table border=\"1\" class=\"dataframe\">\n",
       "  <thead>\n",
       "    <tr style=\"text-align: right;\">\n",
       "      <th></th>\n",
       "      <th>labda</th>\n",
       "      <th>toll</th>\n",
       "      <th>ceruza</th>\n",
       "    </tr>\n",
       "  </thead>\n",
       "  <tbody>\n",
       "    <tr>\n",
       "      <th>fehér</th>\n",
       "      <td>0</td>\n",
       "      <td>1</td>\n",
       "      <td>2</td>\n",
       "    </tr>\n",
       "    <tr>\n",
       "      <th>fekete</th>\n",
       "      <td>3</td>\n",
       "      <td>4</td>\n",
       "      <td>5</td>\n",
       "    </tr>\n",
       "    <tr>\n",
       "      <th>vörös</th>\n",
       "      <td>6</td>\n",
       "      <td>7</td>\n",
       "      <td>8</td>\n",
       "    </tr>\n",
       "  </tbody>\n",
       "</table>\n",
       "</div>"
      ],
      "text/plain": [
       "        labda  toll  ceruza\n",
       "fehér       0     1       2\n",
       "fekete      3     4       5\n",
       "vörös       6     7       8"
      ]
     },
     "execution_count": 21,
     "metadata": {},
     "output_type": "execute_result"
    }
   ],
   "source": [
    "ser8"
   ]
  },
  {
   "cell_type": "markdown",
   "metadata": {},
   "source": [
    "## Pivot from long to wide\n",
    "\n",
    "In this case we have a \"long\" datarange. For example a logfile, or something like a sensor reading fro long time.\n",
    "This means, that the categries, which normally can be handled as columns, are in separated rows instead.\n",
    "Lets see, how can we crate columns fom them.\n",
    "----------------------------------------------------------------------------------------------"
   ]
  },
  {
   "cell_type": "code",
   "execution_count": 22,
   "metadata": {},
   "outputs": [],
   "source": [
    "longframe = pd.DataFrame({'szin':['fehér','fehér','fehér','fekete','fekete','fekete','piros','piros','piros'],\n",
    "            'cikk':['labda','toll','bögre','labda','toll','bögre','labda','toll','bögre'],\n",
    "            'ár':np.random.rand(9)})"
   ]
  },
  {
   "cell_type": "code",
   "execution_count": 23,
   "metadata": {},
   "outputs": [
    {
     "data": {
      "text/html": [
       "<div>\n",
       "<style scoped>\n",
       "    .dataframe tbody tr th:only-of-type {\n",
       "        vertical-align: middle;\n",
       "    }\n",
       "\n",
       "    .dataframe tbody tr th {\n",
       "        vertical-align: top;\n",
       "    }\n",
       "\n",
       "    .dataframe thead th {\n",
       "        text-align: right;\n",
       "    }\n",
       "</style>\n",
       "<table border=\"1\" class=\"dataframe\">\n",
       "  <thead>\n",
       "    <tr style=\"text-align: right;\">\n",
       "      <th></th>\n",
       "      <th>szin</th>\n",
       "      <th>cikk</th>\n",
       "      <th>ár</th>\n",
       "    </tr>\n",
       "  </thead>\n",
       "  <tbody>\n",
       "    <tr>\n",
       "      <th>0</th>\n",
       "      <td>fehér</td>\n",
       "      <td>labda</td>\n",
       "      <td>0.331730</td>\n",
       "    </tr>\n",
       "    <tr>\n",
       "      <th>1</th>\n",
       "      <td>fehér</td>\n",
       "      <td>toll</td>\n",
       "      <td>0.039567</td>\n",
       "    </tr>\n",
       "    <tr>\n",
       "      <th>2</th>\n",
       "      <td>fehér</td>\n",
       "      <td>bögre</td>\n",
       "      <td>0.682820</td>\n",
       "    </tr>\n",
       "    <tr>\n",
       "      <th>3</th>\n",
       "      <td>fekete</td>\n",
       "      <td>labda</td>\n",
       "      <td>0.632445</td>\n",
       "    </tr>\n",
       "    <tr>\n",
       "      <th>4</th>\n",
       "      <td>fekete</td>\n",
       "      <td>toll</td>\n",
       "      <td>0.835913</td>\n",
       "    </tr>\n",
       "    <tr>\n",
       "      <th>5</th>\n",
       "      <td>fekete</td>\n",
       "      <td>bögre</td>\n",
       "      <td>0.911614</td>\n",
       "    </tr>\n",
       "    <tr>\n",
       "      <th>6</th>\n",
       "      <td>piros</td>\n",
       "      <td>labda</td>\n",
       "      <td>0.344978</td>\n",
       "    </tr>\n",
       "    <tr>\n",
       "      <th>7</th>\n",
       "      <td>piros</td>\n",
       "      <td>toll</td>\n",
       "      <td>0.279022</td>\n",
       "    </tr>\n",
       "    <tr>\n",
       "      <th>8</th>\n",
       "      <td>piros</td>\n",
       "      <td>bögre</td>\n",
       "      <td>0.903371</td>\n",
       "    </tr>\n",
       "  </tbody>\n",
       "</table>\n",
       "</div>"
      ],
      "text/plain": [
       "     szin   cikk        ár\n",
       "0   fehér  labda  0.331730\n",
       "1   fehér   toll  0.039567\n",
       "2   fehér  bögre  0.682820\n",
       "3  fekete  labda  0.632445\n",
       "4  fekete   toll  0.835913\n",
       "5  fekete  bögre  0.911614\n",
       "6   piros  labda  0.344978\n",
       "7   piros   toll  0.279022\n",
       "8   piros  bögre  0.903371"
      ]
     },
     "execution_count": 23,
     "metadata": {},
     "output_type": "execute_result"
    }
   ],
   "source": [
    "longframe"
   ]
  },
  {
   "cell_type": "markdown",
   "metadata": {},
   "source": [
    "<p style=\"color:#6666CC;background-color:#050566;padding:18px;border:4px solid #050566;border-radius:8px;box-shadow:4px 4px 8px #050505;\">Well, in this case the set is quite long.<br>To make it more readable, we can make a wide one from this.<br>\n",
    "For this operation the DF.pivot() function comes in handy!</p>"
   ]
  },
  {
   "cell_type": "code",
   "execution_count": 24,
   "metadata": {},
   "outputs": [],
   "source": [
    "wideframe = longframe.pivot('szin','cikk')"
   ]
  },
  {
   "cell_type": "code",
   "execution_count": 25,
   "metadata": {},
   "outputs": [
    {
     "data": {
      "text/html": [
       "<div>\n",
       "<style scoped>\n",
       "    .dataframe tbody tr th:only-of-type {\n",
       "        vertical-align: middle;\n",
       "    }\n",
       "\n",
       "    .dataframe tbody tr th {\n",
       "        vertical-align: top;\n",
       "    }\n",
       "\n",
       "    .dataframe thead tr th {\n",
       "        text-align: left;\n",
       "    }\n",
       "\n",
       "    .dataframe thead tr:last-of-type th {\n",
       "        text-align: right;\n",
       "    }\n",
       "</style>\n",
       "<table border=\"1\" class=\"dataframe\">\n",
       "  <thead>\n",
       "    <tr>\n",
       "      <th></th>\n",
       "      <th colspan=\"3\" halign=\"left\">ár</th>\n",
       "    </tr>\n",
       "    <tr>\n",
       "      <th>cikk</th>\n",
       "      <th>bögre</th>\n",
       "      <th>labda</th>\n",
       "      <th>toll</th>\n",
       "    </tr>\n",
       "    <tr>\n",
       "      <th>szin</th>\n",
       "      <th></th>\n",
       "      <th></th>\n",
       "      <th></th>\n",
       "    </tr>\n",
       "  </thead>\n",
       "  <tbody>\n",
       "    <tr>\n",
       "      <th>fehér</th>\n",
       "      <td>0.682820</td>\n",
       "      <td>0.331730</td>\n",
       "      <td>0.039567</td>\n",
       "    </tr>\n",
       "    <tr>\n",
       "      <th>fekete</th>\n",
       "      <td>0.911614</td>\n",
       "      <td>0.632445</td>\n",
       "      <td>0.835913</td>\n",
       "    </tr>\n",
       "    <tr>\n",
       "      <th>piros</th>\n",
       "      <td>0.903371</td>\n",
       "      <td>0.344978</td>\n",
       "      <td>0.279022</td>\n",
       "    </tr>\n",
       "  </tbody>\n",
       "</table>\n",
       "</div>"
      ],
      "text/plain": [
       "              ár                    \n",
       "cikk       bögre     labda      toll\n",
       "szin                                \n",
       "fehér   0.682820  0.331730  0.039567\n",
       "fekete  0.911614  0.632445  0.835913\n",
       "piros   0.903371  0.344978  0.279022"
      ]
     },
     "execution_count": 25,
     "metadata": {},
     "output_type": "execute_result"
    }
   ],
   "source": [
    "wideframe"
   ]
  },
  {
   "cell_type": "markdown",
   "metadata": {},
   "source": [
    "<p \n",
    "style=\"color:#6666CC;background-color:#050566;padding:18px;border:4px solid #050566;border-radius:8px;box-shadow:4px 4px 8px #050505;\">\n",
    "As we can see here, we got  simple price table, with the color, and item names as categories.</p>"
   ]
  },
  {
   "cell_type": "markdown",
   "metadata": {},
   "source": [
    "## The last element: REMOVING\n",
    "--------------------------------------------------------------\n",
    "In this section we see how can we remove rows, or columns"
   ]
  },
  {
   "cell_type": "code",
   "execution_count": 26,
   "metadata": {},
   "outputs": [],
   "source": [
    "frame1 = pd.DataFrame(np.arange(9).reshape(3,3),\n",
    "                     index=['fehér','fekete','piros'],\n",
    "                     columns=['labda','toll','csésze'])"
   ]
  },
  {
   "cell_type": "code",
   "execution_count": 27,
   "metadata": {},
   "outputs": [
    {
     "data": {
      "text/html": [
       "<div>\n",
       "<style scoped>\n",
       "    .dataframe tbody tr th:only-of-type {\n",
       "        vertical-align: middle;\n",
       "    }\n",
       "\n",
       "    .dataframe tbody tr th {\n",
       "        vertical-align: top;\n",
       "    }\n",
       "\n",
       "    .dataframe thead th {\n",
       "        text-align: right;\n",
       "    }\n",
       "</style>\n",
       "<table border=\"1\" class=\"dataframe\">\n",
       "  <thead>\n",
       "    <tr style=\"text-align: right;\">\n",
       "      <th></th>\n",
       "      <th>labda</th>\n",
       "      <th>toll</th>\n",
       "      <th>csésze</th>\n",
       "    </tr>\n",
       "  </thead>\n",
       "  <tbody>\n",
       "    <tr>\n",
       "      <th>fehér</th>\n",
       "      <td>0</td>\n",
       "      <td>1</td>\n",
       "      <td>2</td>\n",
       "    </tr>\n",
       "    <tr>\n",
       "      <th>fekete</th>\n",
       "      <td>3</td>\n",
       "      <td>4</td>\n",
       "      <td>5</td>\n",
       "    </tr>\n",
       "    <tr>\n",
       "      <th>piros</th>\n",
       "      <td>6</td>\n",
       "      <td>7</td>\n",
       "      <td>8</td>\n",
       "    </tr>\n",
       "  </tbody>\n",
       "</table>\n",
       "</div>"
      ],
      "text/plain": [
       "        labda  toll  csésze\n",
       "fehér       0     1       2\n",
       "fekete      3     4       5\n",
       "piros       6     7       8"
      ]
     },
     "execution_count": 27,
     "metadata": {},
     "output_type": "execute_result"
    }
   ],
   "source": [
    "frame1"
   ]
  },
  {
   "cell_type": "markdown",
   "metadata": {},
   "source": [
    "<p style=\"color:#6666CC;background-color:#050566;padding:18px;border:4px solid #050566;border-radius:8px;box-shadow:4px 4px 8px #050505;\">\n",
    "Lets see how can we get rid of a column:<br>\n",
    "Easy: we just need the del command:<br>\n",
    "<code>del frame1['labda']<code>\n",
    "</p>"
   ]
  },
  {
   "cell_type": "code",
   "execution_count": 28,
   "metadata": {},
   "outputs": [],
   "source": [
    "del frame1['labda']"
   ]
  },
  {
   "cell_type": "code",
   "execution_count": 29,
   "metadata": {},
   "outputs": [
    {
     "data": {
      "text/html": [
       "<div>\n",
       "<style scoped>\n",
       "    .dataframe tbody tr th:only-of-type {\n",
       "        vertical-align: middle;\n",
       "    }\n",
       "\n",
       "    .dataframe tbody tr th {\n",
       "        vertical-align: top;\n",
       "    }\n",
       "\n",
       "    .dataframe thead th {\n",
       "        text-align: right;\n",
       "    }\n",
       "</style>\n",
       "<table border=\"1\" class=\"dataframe\">\n",
       "  <thead>\n",
       "    <tr style=\"text-align: right;\">\n",
       "      <th></th>\n",
       "      <th>toll</th>\n",
       "      <th>csésze</th>\n",
       "    </tr>\n",
       "  </thead>\n",
       "  <tbody>\n",
       "    <tr>\n",
       "      <th>fehér</th>\n",
       "      <td>1</td>\n",
       "      <td>2</td>\n",
       "    </tr>\n",
       "    <tr>\n",
       "      <th>fekete</th>\n",
       "      <td>4</td>\n",
       "      <td>5</td>\n",
       "    </tr>\n",
       "    <tr>\n",
       "      <th>piros</th>\n",
       "      <td>7</td>\n",
       "      <td>8</td>\n",
       "    </tr>\n",
       "  </tbody>\n",
       "</table>\n",
       "</div>"
      ],
      "text/plain": [
       "        toll  csésze\n",
       "fehér      1       2\n",
       "fekete     4       5\n",
       "piros      7       8"
      ]
     },
     "execution_count": 29,
     "metadata": {},
     "output_type": "execute_result"
    }
   ],
   "source": [
    "frame1"
   ]
  },
  {
   "cell_type": "markdown",
   "metadata": {},
   "source": [
    "<p style=\"color:#6666CC;background-color:#050566;padding:18px;border:4px solid #050566;border-radius:8px;box-shadow:4px 4px 8px #050505;\">\n",
    "Instead, if we want to delete some <b><u>rows</u></b>:<br>\n",
    "Easy: we just need the <b><u>drop</u></b> command, and an <em>index</em>:<br>\n",
    "<code>frame1.drop['fekete']<code>\n",
    "</p>"
   ]
  },
  {
   "cell_type": "code",
   "execution_count": 30,
   "metadata": {},
   "outputs": [
    {
     "data": {
      "text/html": [
       "<div>\n",
       "<style scoped>\n",
       "    .dataframe tbody tr th:only-of-type {\n",
       "        vertical-align: middle;\n",
       "    }\n",
       "\n",
       "    .dataframe tbody tr th {\n",
       "        vertical-align: top;\n",
       "    }\n",
       "\n",
       "    .dataframe thead th {\n",
       "        text-align: right;\n",
       "    }\n",
       "</style>\n",
       "<table border=\"1\" class=\"dataframe\">\n",
       "  <thead>\n",
       "    <tr style=\"text-align: right;\">\n",
       "      <th></th>\n",
       "      <th>toll</th>\n",
       "      <th>csésze</th>\n",
       "    </tr>\n",
       "  </thead>\n",
       "  <tbody>\n",
       "    <tr>\n",
       "      <th>fehér</th>\n",
       "      <td>1</td>\n",
       "      <td>2</td>\n",
       "    </tr>\n",
       "    <tr>\n",
       "      <th>piros</th>\n",
       "      <td>7</td>\n",
       "      <td>8</td>\n",
       "    </tr>\n",
       "  </tbody>\n",
       "</table>\n",
       "</div>"
      ],
      "text/plain": [
       "       toll  csésze\n",
       "fehér     1       2\n",
       "piros     7       8"
      ]
     },
     "execution_count": 30,
     "metadata": {},
     "output_type": "execute_result"
    }
   ],
   "source": [
    "frame1 = frame1.drop('fekete')\n",
    "frame1"
   ]
  },
  {
   "cell_type": "markdown",
   "metadata": {},
   "source": [
    "<p style=\"color:#CC9999;background-color:#660505;padding:18px;border:4px solid #050566;border-radius:8px;box-shadow:4px 4px 8px #050505;\">\n",
    "From the above examples it easy to see, that in case of del, the modification hapens instantly on the dataframe, and you can get back the original data with re-creation of the dataset.<br>\n",
    "-----------------------------------------------------------------------------------------------------------<br>\n",
    "While in the case of drop, it is the contrary, you need to assign the rsult of the operation to a (new) dataframe, to have a constant result.\n",
    "</p>"
   ]
  },
  {
   "cell_type": "markdown",
   "metadata": {},
   "source": [
    "# -------------------------------------------------------------------------------------------------------\n",
    "# DATA TRANSFORMATION\n",
    "# -------------------------------------------------------------------------------------------------------"
   ]
  },
  {
   "cell_type": "markdown",
   "metadata": {},
   "source": [
    "<p style=\"color:#6666CC;background-color:#050566;padding:18px;border:4px solid #050566;border-radius:8px;box-shadow:4px 4px 8px #050505;\">\n",
    "In the former section, we did the data preparition, which was mainly about <b>re-structurizing</b> our existing data, now we begin the data transformation phase.<br>\n",
    "While in the former section we mostly changed the structure of the data, columns, rows, re-structuring of these ones, deleting, or create on from the other, now we focus on the data content itslef.\n",
    "</p>"
   ]
  },
  {
   "cell_type": "markdown",
   "metadata": {},
   "source": [
    "## Removing duplicates"
   ]
  },
  {
   "cell_type": "markdown",
   "metadata": {},
   "source": [
    "<p style=\"color:#6666CC;background-color:#050566;padding:18px;border:4px solid #050566;border-radius:8px;box-shadow:4px 4px 8px #050505;\">\n",
    "Sometimes we need to get rid of duplicate records, which can be regarded as \"niose\" in our data.\n",
    "</p>"
   ]
  },
  {
   "cell_type": "code",
   "execution_count": 31,
   "metadata": {},
   "outputs": [],
   "source": [
    "dFrm = pd.DataFrame({'szin':['fehér','fehér','piros','piros','fehér'],\n",
    "                    'érték':[2,1,3,3,2]})"
   ]
  },
  {
   "cell_type": "code",
   "execution_count": 32,
   "metadata": {},
   "outputs": [
    {
     "data": {
      "text/html": [
       "<div>\n",
       "<style scoped>\n",
       "    .dataframe tbody tr th:only-of-type {\n",
       "        vertical-align: middle;\n",
       "    }\n",
       "\n",
       "    .dataframe tbody tr th {\n",
       "        vertical-align: top;\n",
       "    }\n",
       "\n",
       "    .dataframe thead th {\n",
       "        text-align: right;\n",
       "    }\n",
       "</style>\n",
       "<table border=\"1\" class=\"dataframe\">\n",
       "  <thead>\n",
       "    <tr style=\"text-align: right;\">\n",
       "      <th></th>\n",
       "      <th>szin</th>\n",
       "      <th>érték</th>\n",
       "    </tr>\n",
       "  </thead>\n",
       "  <tbody>\n",
       "    <tr>\n",
       "      <th>0</th>\n",
       "      <td>fehér</td>\n",
       "      <td>2</td>\n",
       "    </tr>\n",
       "    <tr>\n",
       "      <th>1</th>\n",
       "      <td>fehér</td>\n",
       "      <td>1</td>\n",
       "    </tr>\n",
       "    <tr>\n",
       "      <th>2</th>\n",
       "      <td>piros</td>\n",
       "      <td>3</td>\n",
       "    </tr>\n",
       "    <tr>\n",
       "      <th>3</th>\n",
       "      <td>piros</td>\n",
       "      <td>3</td>\n",
       "    </tr>\n",
       "    <tr>\n",
       "      <th>4</th>\n",
       "      <td>fehér</td>\n",
       "      <td>2</td>\n",
       "    </tr>\n",
       "  </tbody>\n",
       "</table>\n",
       "</div>"
      ],
      "text/plain": [
       "    szin  érték\n",
       "0  fehér      2\n",
       "1  fehér      1\n",
       "2  piros      3\n",
       "3  piros      3\n",
       "4  fehér      2"
      ]
     },
     "execution_count": 32,
     "metadata": {},
     "output_type": "execute_result"
    }
   ],
   "source": [
    "dFrm"
   ]
  },
  {
   "cell_type": "markdown",
   "metadata": {},
   "source": [
    "<p style=\"color:#6666CC;background-color:#050566;padding:18px;border:4px solid #050566;border-radius:8px;box-shadow:4px 4px 8px #050505;\">\n",
    "To find the duplicated elements, the <code>df.duplicated()</code> function helps us, which gives us back a well known boolean array.\n",
    "</p>"
   ]
  },
  {
   "cell_type": "code",
   "execution_count": 33,
   "metadata": {},
   "outputs": [
    {
     "data": {
      "text/plain": [
       "0    False\n",
       "1    False\n",
       "2    False\n",
       "3     True\n",
       "4     True\n",
       "dtype: bool"
      ]
     },
     "execution_count": 33,
     "metadata": {},
     "output_type": "execute_result"
    }
   ],
   "source": [
    "dFrm.duplicated()"
   ]
  },
  {
   "cell_type": "markdown",
   "metadata": {},
   "source": [
    "<p style=\"color:#6666CC;background-color:#050566;padding:18px;border:4px solid #050566;border-radius:8px;box-shadow:4px 4px 8px #050505;\">\n",
    "If we have such a boolean array, then we can use it with some array magix.\n",
    "</p>"
   ]
  },
  {
   "cell_type": "code",
   "execution_count": 34,
   "metadata": {},
   "outputs": [
    {
     "data": {
      "text/html": [
       "<div>\n",
       "<style scoped>\n",
       "    .dataframe tbody tr th:only-of-type {\n",
       "        vertical-align: middle;\n",
       "    }\n",
       "\n",
       "    .dataframe tbody tr th {\n",
       "        vertical-align: top;\n",
       "    }\n",
       "\n",
       "    .dataframe thead th {\n",
       "        text-align: right;\n",
       "    }\n",
       "</style>\n",
       "<table border=\"1\" class=\"dataframe\">\n",
       "  <thead>\n",
       "    <tr style=\"text-align: right;\">\n",
       "      <th></th>\n",
       "      <th>szin</th>\n",
       "      <th>érték</th>\n",
       "    </tr>\n",
       "  </thead>\n",
       "  <tbody>\n",
       "    <tr>\n",
       "      <th>3</th>\n",
       "      <td>piros</td>\n",
       "      <td>3</td>\n",
       "    </tr>\n",
       "    <tr>\n",
       "      <th>4</th>\n",
       "      <td>fehér</td>\n",
       "      <td>2</td>\n",
       "    </tr>\n",
       "  </tbody>\n",
       "</table>\n",
       "</div>"
      ],
      "text/plain": [
       "    szin  érték\n",
       "3  piros      3\n",
       "4  fehér      2"
      ]
     },
     "execution_count": 34,
     "metadata": {},
     "output_type": "execute_result"
    }
   ],
   "source": [
    "dFrm[dFrm.duplicated()]"
   ]
  },
  {
   "cell_type": "markdown",
   "metadata": {},
   "source": [
    "<p style=\"color:#6666CC;background-color:#050566;padding:18px;border:4px solid #050566;border-radius:8px;box-shadow:4px 4px 8px #050505;\">\n",
    "For the same purpose, there is the <code>drop_duplicates()</code> function, which returns with a duplication-free version of the original dataset.\n",
    "</p>"
   ]
  },
  {
   "cell_type": "code",
   "execution_count": 35,
   "metadata": {},
   "outputs": [
    {
     "data": {
      "text/html": [
       "<div>\n",
       "<style scoped>\n",
       "    .dataframe tbody tr th:only-of-type {\n",
       "        vertical-align: middle;\n",
       "    }\n",
       "\n",
       "    .dataframe tbody tr th {\n",
       "        vertical-align: top;\n",
       "    }\n",
       "\n",
       "    .dataframe thead th {\n",
       "        text-align: right;\n",
       "    }\n",
       "</style>\n",
       "<table border=\"1\" class=\"dataframe\">\n",
       "  <thead>\n",
       "    <tr style=\"text-align: right;\">\n",
       "      <th></th>\n",
       "      <th>szin</th>\n",
       "      <th>érték</th>\n",
       "    </tr>\n",
       "  </thead>\n",
       "  <tbody>\n",
       "    <tr>\n",
       "      <th>0</th>\n",
       "      <td>fehér</td>\n",
       "      <td>2</td>\n",
       "    </tr>\n",
       "    <tr>\n",
       "      <th>1</th>\n",
       "      <td>fehér</td>\n",
       "      <td>1</td>\n",
       "    </tr>\n",
       "    <tr>\n",
       "      <th>2</th>\n",
       "      <td>piros</td>\n",
       "      <td>3</td>\n",
       "    </tr>\n",
       "  </tbody>\n",
       "</table>\n",
       "</div>"
      ],
      "text/plain": [
       "    szin  érték\n",
       "0  fehér      2\n",
       "1  fehér      1\n",
       "2  piros      3"
      ]
     },
     "execution_count": 35,
     "metadata": {},
     "output_type": "execute_result"
    }
   ],
   "source": [
    "dFrm.drop_duplicates()"
   ]
  },
  {
   "cell_type": "markdown",
   "metadata": {},
   "source": [
    "## Mapping\n",
    "---------------------------------------------------------------------------------------------------<br>\n",
    "Mapping is a process in which we can make a kind of bond between two elements.<br>\n",
    "From this we can see, that there is no better object for mapping than the <b>dictionary</b>!<br>\n",
    "<code>\n",
    "map = {\n",
    "    'label1' : 'value1'\n",
    "    'label2' : 'value2'\n",
    "    ...\n",
    "}</code><br>\n",
    "There is 3 mainly used function here, and all of them accepts a dictionary as parameter.\n",
    "<ul>\n",
    "    <li>replace() = replaces values</li>\n",
    "    <li>map() = creates new column</li>\n",
    "    <li>rename() = replaces the index values</li>\n",
    "   </ul>\n",
    " =================================================================================================="
   ]
  },
  {
   "cell_type": "markdown",
   "metadata": {},
   "source": [
    "### <i><u>Replace values via mapping</u></i>"
   ]
  },
  {
   "cell_type": "markdown",
   "metadata": {},
   "source": [
    "<p style=\"color:#6666CC;background-color:#050566;padding:18px;border:4px solid #050566;border-radius:8px;box-shadow:4px 4px 8px #050505;\">\n",
    "Lets see for example a dataframe, which contains same colors, but on a foreign language, which should be considered the same value as defined on native language. In this case the foreign language values should be replaced with their native pairs.\n",
    "</p>"
   ]
  },
  {
   "cell_type": "code",
   "execution_count": 36,
   "metadata": {},
   "outputs": [],
   "source": [
    "frm = pd.DataFrame({'item':['labda','váza','poló','ceruza','hamutartó'],\n",
    "                    'color':['fehér','rosso','verde','fekete','sárga'],\n",
    "                    'price':[556,420,130,56,275]})"
   ]
  },
  {
   "cell_type": "code",
   "execution_count": 37,
   "metadata": {},
   "outputs": [
    {
     "data": {
      "text/html": [
       "<div>\n",
       "<style scoped>\n",
       "    .dataframe tbody tr th:only-of-type {\n",
       "        vertical-align: middle;\n",
       "    }\n",
       "\n",
       "    .dataframe tbody tr th {\n",
       "        vertical-align: top;\n",
       "    }\n",
       "\n",
       "    .dataframe thead th {\n",
       "        text-align: right;\n",
       "    }\n",
       "</style>\n",
       "<table border=\"1\" class=\"dataframe\">\n",
       "  <thead>\n",
       "    <tr style=\"text-align: right;\">\n",
       "      <th></th>\n",
       "      <th>item</th>\n",
       "      <th>color</th>\n",
       "      <th>price</th>\n",
       "    </tr>\n",
       "  </thead>\n",
       "  <tbody>\n",
       "    <tr>\n",
       "      <th>0</th>\n",
       "      <td>labda</td>\n",
       "      <td>fehér</td>\n",
       "      <td>556</td>\n",
       "    </tr>\n",
       "    <tr>\n",
       "      <th>1</th>\n",
       "      <td>váza</td>\n",
       "      <td>rosso</td>\n",
       "      <td>420</td>\n",
       "    </tr>\n",
       "    <tr>\n",
       "      <th>2</th>\n",
       "      <td>poló</td>\n",
       "      <td>verde</td>\n",
       "      <td>130</td>\n",
       "    </tr>\n",
       "    <tr>\n",
       "      <th>3</th>\n",
       "      <td>ceruza</td>\n",
       "      <td>fekete</td>\n",
       "      <td>56</td>\n",
       "    </tr>\n",
       "    <tr>\n",
       "      <th>4</th>\n",
       "      <td>hamutartó</td>\n",
       "      <td>sárga</td>\n",
       "      <td>275</td>\n",
       "    </tr>\n",
       "  </tbody>\n",
       "</table>\n",
       "</div>"
      ],
      "text/plain": [
       "        item   color  price\n",
       "0      labda   fehér    556\n",
       "1       váza   rosso    420\n",
       "2       poló   verde    130\n",
       "3     ceruza  fekete     56\n",
       "4  hamutartó   sárga    275"
      ]
     },
     "execution_count": 37,
     "metadata": {},
     "output_type": "execute_result"
    }
   ],
   "source": [
    "frm"
   ]
  },
  {
   "cell_type": "code",
   "execution_count": 38,
   "metadata": {},
   "outputs": [
    {
     "data": {
      "text/html": [
       "<div>\n",
       "<style scoped>\n",
       "    .dataframe tbody tr th:only-of-type {\n",
       "        vertical-align: middle;\n",
       "    }\n",
       "\n",
       "    .dataframe tbody tr th {\n",
       "        vertical-align: top;\n",
       "    }\n",
       "\n",
       "    .dataframe thead th {\n",
       "        text-align: right;\n",
       "    }\n",
       "</style>\n",
       "<table border=\"1\" class=\"dataframe\">\n",
       "  <thead>\n",
       "    <tr style=\"text-align: right;\">\n",
       "      <th></th>\n",
       "      <th>item</th>\n",
       "      <th>color</th>\n",
       "      <th>price</th>\n",
       "    </tr>\n",
       "  </thead>\n",
       "  <tbody>\n",
       "    <tr>\n",
       "      <th>0</th>\n",
       "      <td>labda</td>\n",
       "      <td>fehér</td>\n",
       "      <td>556</td>\n",
       "    </tr>\n",
       "    <tr>\n",
       "      <th>1</th>\n",
       "      <td>váza</td>\n",
       "      <td>piros</td>\n",
       "      <td>420</td>\n",
       "    </tr>\n",
       "    <tr>\n",
       "      <th>2</th>\n",
       "      <td>poló</td>\n",
       "      <td>zöld</td>\n",
       "      <td>130</td>\n",
       "    </tr>\n",
       "    <tr>\n",
       "      <th>3</th>\n",
       "      <td>ceruza</td>\n",
       "      <td>fekete</td>\n",
       "      <td>56</td>\n",
       "    </tr>\n",
       "    <tr>\n",
       "      <th>4</th>\n",
       "      <td>hamutartó</td>\n",
       "      <td>sárga</td>\n",
       "      <td>275</td>\n",
       "    </tr>\n",
       "  </tbody>\n",
       "</table>\n",
       "</div>"
      ],
      "text/plain": [
       "        item   color  price\n",
       "0      labda   fehér    556\n",
       "1       váza   piros    420\n",
       "2       poló    zöld    130\n",
       "3     ceruza  fekete     56\n",
       "4  hamutartó   sárga    275"
      ]
     },
     "execution_count": 38,
     "metadata": {},
     "output_type": "execute_result"
    }
   ],
   "source": [
    "#1 step: define the replacer dictionary:\n",
    "newcolors = {'rosso':'piros','verde':'zöld'}\n",
    "#2 step make the replace:\n",
    "frm.replace(newcolors)"
   ]
  },
  {
   "cell_type": "code",
   "execution_count": 40,
   "metadata": {},
   "outputs": [
    {
     "data": {
      "text/plain": [
       "0    1.0\n",
       "1    3.0\n",
       "2    NaN\n",
       "3    4.0\n",
       "4    6.0\n",
       "5    NaN\n",
       "6    3.0\n",
       "dtype: float64"
      ]
     },
     "execution_count": 40,
     "metadata": {},
     "output_type": "execute_result"
    }
   ],
   "source": [
    "# The most common case is the replacing of NaN-s:\n",
    "ser = pd.Series([1,3,np.nan,4,6,np.nan,3])\n",
    "ser"
   ]
  },
  {
   "cell_type": "code",
   "execution_count": 41,
   "metadata": {},
   "outputs": [
    {
     "data": {
      "text/plain": [
       "0    1.0\n",
       "1    3.0\n",
       "2    0.0\n",
       "3    4.0\n",
       "4    6.0\n",
       "5    0.0\n",
       "6    3.0\n",
       "dtype: float64"
      ]
     },
     "execution_count": 41,
     "metadata": {},
     "output_type": "execute_result"
    }
   ],
   "source": [
    "# Here we replace the numpy NaN value with 0-s\n",
    "ser = ser.replace(np.nan,0)\n",
    "ser"
   ]
  },
  {
   "cell_type": "markdown",
   "metadata": {},
   "source": [
    "### Adding values via <em style=\"color:#FF55FF;\">mapping</em>"
   ]
  },
  {
   "cell_type": "code",
   "execution_count": 42,
   "metadata": {},
   "outputs": [
    {
     "data": {
      "text/html": [
       "<div>\n",
       "<style scoped>\n",
       "    .dataframe tbody tr th:only-of-type {\n",
       "        vertical-align: middle;\n",
       "    }\n",
       "\n",
       "    .dataframe tbody tr th {\n",
       "        vertical-align: top;\n",
       "    }\n",
       "\n",
       "    .dataframe thead th {\n",
       "        text-align: right;\n",
       "    }\n",
       "</style>\n",
       "<table border=\"1\" class=\"dataframe\">\n",
       "  <thead>\n",
       "    <tr style=\"text-align: right;\">\n",
       "      <th></th>\n",
       "      <th>item</th>\n",
       "      <th>color</th>\n",
       "    </tr>\n",
       "  </thead>\n",
       "  <tbody>\n",
       "    <tr>\n",
       "      <th>0</th>\n",
       "      <td>ball</td>\n",
       "      <td>white</td>\n",
       "    </tr>\n",
       "    <tr>\n",
       "      <th>1</th>\n",
       "      <td>mug</td>\n",
       "      <td>red</td>\n",
       "    </tr>\n",
       "    <tr>\n",
       "      <th>2</th>\n",
       "      <td>pen</td>\n",
       "      <td>green</td>\n",
       "    </tr>\n",
       "    <tr>\n",
       "      <th>3</th>\n",
       "      <td>pencil</td>\n",
       "      <td>black</td>\n",
       "    </tr>\n",
       "    <tr>\n",
       "      <th>4</th>\n",
       "      <td>ashtray</td>\n",
       "      <td>yellow</td>\n",
       "    </tr>\n",
       "  </tbody>\n",
       "</table>\n",
       "</div>"
      ],
      "text/plain": [
       "      item   color\n",
       "0     ball   white\n",
       "1      mug     red\n",
       "2      pen   green\n",
       "3   pencil   black\n",
       "4  ashtray  yellow"
      ]
     },
     "execution_count": 42,
     "metadata": {},
     "output_type": "execute_result"
    }
   ],
   "source": [
    "# In this case we are exploiting mapping to add values in a column depending on the values contained in another.\n",
    "# The mapping will always be defined separately.\n",
    "f = pd.DataFrame({ 'item':['ball','mug','pen','pencil','ashtray'],\n",
    "    'color':['white','red','green','black','yellow']})\n",
    "f"
   ]
  },
  {
   "cell_type": "code",
   "execution_count": 43,
   "metadata": {},
   "outputs": [
    {
     "data": {
      "text/html": [
       "<div>\n",
       "<style scoped>\n",
       "    .dataframe tbody tr th:only-of-type {\n",
       "        vertical-align: middle;\n",
       "    }\n",
       "\n",
       "    .dataframe tbody tr th {\n",
       "        vertical-align: top;\n",
       "    }\n",
       "\n",
       "    .dataframe thead th {\n",
       "        text-align: right;\n",
       "    }\n",
       "</style>\n",
       "<table border=\"1\" class=\"dataframe\">\n",
       "  <thead>\n",
       "    <tr style=\"text-align: right;\">\n",
       "      <th></th>\n",
       "      <th>item</th>\n",
       "      <th>color</th>\n",
       "      <th>price</th>\n",
       "    </tr>\n",
       "  </thead>\n",
       "  <tbody>\n",
       "    <tr>\n",
       "      <th>0</th>\n",
       "      <td>ball</td>\n",
       "      <td>white</td>\n",
       "      <td>5.56</td>\n",
       "    </tr>\n",
       "    <tr>\n",
       "      <th>1</th>\n",
       "      <td>mug</td>\n",
       "      <td>red</td>\n",
       "      <td>4.20</td>\n",
       "    </tr>\n",
       "    <tr>\n",
       "      <th>2</th>\n",
       "      <td>pen</td>\n",
       "      <td>green</td>\n",
       "      <td>1.30</td>\n",
       "    </tr>\n",
       "    <tr>\n",
       "      <th>3</th>\n",
       "      <td>pencil</td>\n",
       "      <td>black</td>\n",
       "      <td>0.56</td>\n",
       "    </tr>\n",
       "    <tr>\n",
       "      <th>4</th>\n",
       "      <td>ashtray</td>\n",
       "      <td>yellow</td>\n",
       "      <td>2.75</td>\n",
       "    </tr>\n",
       "  </tbody>\n",
       "</table>\n",
       "</div>"
      ],
      "text/plain": [
       "      item   color  price\n",
       "0     ball   white   5.56\n",
       "1      mug     red   4.20\n",
       "2      pen   green   1.30\n",
       "3   pencil   black   0.56\n",
       "4  ashtray  yellow   2.75"
      ]
     },
     "execution_count": 43,
     "metadata": {},
     "output_type": "execute_result"
    }
   ],
   "source": [
    "# Let’s suppose you want to add a column to indicate the price of the item shown in the dataframe. \n",
    "# You have a price list in which the price for each type of item is described (a dict\n",
    "# object that contains a list of prices for each type of item).\n",
    "prices = {\n",
    "'ball' : 5.56,\n",
    "'mug' : 4.20,\n",
    "'bottle' : 1.30,\n",
    "'scissors' : 3.41,\n",
    "'pen' : 1.30,\n",
    "'pencil' : 0.56,\n",
    "'ashtray' : 2.75}\n",
    "# The map() function applied to a series (or to a column of a dataframe) accepts a function or an object \n",
    "# containing a dict with mapping. So we can apply the mapping of the prices on the column item, to add \n",
    "# a column to the price dataframe.\n",
    "f['price'] = f['item'].map(prices)\n",
    "f"
   ]
  },
  {
   "cell_type": "markdown",
   "metadata": {},
   "source": [
    "### Rename the indexes of the axes"
   ]
  },
  {
   "cell_type": "markdown",
   "metadata": {},
   "source": [
    "<p style=\"color:#6666CC;background-color:#050566;padding:18px;border:4px solid #050566;border-radius:8px;box-shadow:4px 4px 8px #050505;\">Mapping can applied even for the indexes. or this we can use rename() \n",
    "function with (of course) a dict object.</p> \n"
   ]
  },
  {
   "cell_type": "code",
   "execution_count": 45,
   "metadata": {},
   "outputs": [
    {
     "data": {
      "text/html": [
       "<div>\n",
       "<style scoped>\n",
       "    .dataframe tbody tr th:only-of-type {\n",
       "        vertical-align: middle;\n",
       "    }\n",
       "\n",
       "    .dataframe tbody tr th {\n",
       "        vertical-align: top;\n",
       "    }\n",
       "\n",
       "    .dataframe thead th {\n",
       "        text-align: right;\n",
       "    }\n",
       "</style>\n",
       "<table border=\"1\" class=\"dataframe\">\n",
       "  <thead>\n",
       "    <tr style=\"text-align: right;\">\n",
       "      <th></th>\n",
       "      <th>item</th>\n",
       "      <th>color</th>\n",
       "      <th>price</th>\n",
       "    </tr>\n",
       "  </thead>\n",
       "  <tbody>\n",
       "    <tr>\n",
       "      <th>0</th>\n",
       "      <td>ball</td>\n",
       "      <td>white</td>\n",
       "      <td>5.56</td>\n",
       "    </tr>\n",
       "    <tr>\n",
       "      <th>1</th>\n",
       "      <td>mug</td>\n",
       "      <td>red</td>\n",
       "      <td>4.20</td>\n",
       "    </tr>\n",
       "    <tr>\n",
       "      <th>2</th>\n",
       "      <td>pen</td>\n",
       "      <td>green</td>\n",
       "      <td>1.30</td>\n",
       "    </tr>\n",
       "    <tr>\n",
       "      <th>3</th>\n",
       "      <td>pencil</td>\n",
       "      <td>black</td>\n",
       "      <td>0.56</td>\n",
       "    </tr>\n",
       "    <tr>\n",
       "      <th>4</th>\n",
       "      <td>ashtray</td>\n",
       "      <td>yellow</td>\n",
       "      <td>2.75</td>\n",
       "    </tr>\n",
       "  </tbody>\n",
       "</table>\n",
       "</div>"
      ],
      "text/plain": [
       "      item   color  price\n",
       "0     ball   white   5.56\n",
       "1      mug     red   4.20\n",
       "2      pen   green   1.30\n",
       "3   pencil   black   0.56\n",
       "4  ashtray  yellow   2.75"
      ]
     },
     "execution_count": 45,
     "metadata": {},
     "output_type": "execute_result"
    }
   ],
   "source": [
    "f"
   ]
  },
  {
   "cell_type": "code",
   "execution_count": 46,
   "metadata": {},
   "outputs": [
    {
     "data": {
      "text/html": [
       "<div>\n",
       "<style scoped>\n",
       "    .dataframe tbody tr th:only-of-type {\n",
       "        vertical-align: middle;\n",
       "    }\n",
       "\n",
       "    .dataframe tbody tr th {\n",
       "        vertical-align: top;\n",
       "    }\n",
       "\n",
       "    .dataframe thead th {\n",
       "        text-align: right;\n",
       "    }\n",
       "</style>\n",
       "<table border=\"1\" class=\"dataframe\">\n",
       "  <thead>\n",
       "    <tr style=\"text-align: right;\">\n",
       "      <th></th>\n",
       "      <th>item</th>\n",
       "      <th>color</th>\n",
       "      <th>price</th>\n",
       "    </tr>\n",
       "  </thead>\n",
       "  <tbody>\n",
       "    <tr>\n",
       "      <th>Zero</th>\n",
       "      <td>ball</td>\n",
       "      <td>white</td>\n",
       "      <td>5.56</td>\n",
       "    </tr>\n",
       "    <tr>\n",
       "      <th>First</th>\n",
       "      <td>mug</td>\n",
       "      <td>red</td>\n",
       "      <td>4.20</td>\n",
       "    </tr>\n",
       "    <tr>\n",
       "      <th>Second</th>\n",
       "      <td>pen</td>\n",
       "      <td>green</td>\n",
       "      <td>1.30</td>\n",
       "    </tr>\n",
       "    <tr>\n",
       "      <th>Third</th>\n",
       "      <td>pencil</td>\n",
       "      <td>black</td>\n",
       "      <td>0.56</td>\n",
       "    </tr>\n",
       "    <tr>\n",
       "      <th>Fourth</th>\n",
       "      <td>ashtray</td>\n",
       "      <td>yellow</td>\n",
       "      <td>2.75</td>\n",
       "    </tr>\n",
       "  </tbody>\n",
       "</table>\n",
       "</div>"
      ],
      "text/plain": [
       "           item   color  price\n",
       "Zero       ball   white   5.56\n",
       "First       mug     red   4.20\n",
       "Second      pen   green   1.30\n",
       "Third    pencil   black   0.56\n",
       "Fourth  ashtray  yellow   2.75"
      ]
     },
     "execution_count": 46,
     "metadata": {},
     "output_type": "execute_result"
    }
   ],
   "source": [
    "reindexDict = {\n",
    "    0:'Zero',\n",
    "    1:'First',\n",
    "    2:'Second',\n",
    "    3:'Third',\n",
    "    4:'Fourth',\n",
    "}\n",
    "f.rename(reindexDict)\n"
   ]
  },
  {
   "cell_type": "markdown",
   "metadata": {},
   "source": [
    "<p style=\"color:#6666CC;background-color:#050566;padding:18px;border:4px solid #050566;border-radius:8px;box-shadow:4px 4px 8px #050505;\">If we want to rename COLUMNS we need an extra parameter, &quot;columns&quot;.\n",
    " <br>But for this we also need a renaming dict!</p>"
   ]
  },
  {
   "cell_type": "code",
   "execution_count": 48,
   "metadata": {},
   "outputs": [
    {
     "data": {
      "text/html": [
       "<div>\n",
       "<style scoped>\n",
       "    .dataframe tbody tr th:only-of-type {\n",
       "        vertical-align: middle;\n",
       "    }\n",
       "\n",
       "    .dataframe tbody tr th {\n",
       "        vertical-align: top;\n",
       "    }\n",
       "\n",
       "    .dataframe thead th {\n",
       "        text-align: right;\n",
       "    }\n",
       "</style>\n",
       "<table border=\"1\" class=\"dataframe\">\n",
       "  <thead>\n",
       "    <tr style=\"text-align: right;\">\n",
       "      <th></th>\n",
       "      <th>Tétel</th>\n",
       "      <th>Szín</th>\n",
       "      <th>Ár</th>\n",
       "    </tr>\n",
       "  </thead>\n",
       "  <tbody>\n",
       "    <tr>\n",
       "      <th>Zero</th>\n",
       "      <td>ball</td>\n",
       "      <td>white</td>\n",
       "      <td>5.56</td>\n",
       "    </tr>\n",
       "    <tr>\n",
       "      <th>First</th>\n",
       "      <td>mug</td>\n",
       "      <td>red</td>\n",
       "      <td>4.20</td>\n",
       "    </tr>\n",
       "    <tr>\n",
       "      <th>Second</th>\n",
       "      <td>pen</td>\n",
       "      <td>green</td>\n",
       "      <td>1.30</td>\n",
       "    </tr>\n",
       "    <tr>\n",
       "      <th>Third</th>\n",
       "      <td>pencil</td>\n",
       "      <td>black</td>\n",
       "      <td>0.56</td>\n",
       "    </tr>\n",
       "    <tr>\n",
       "      <th>Fourth</th>\n",
       "      <td>ashtray</td>\n",
       "      <td>yellow</td>\n",
       "      <td>2.75</td>\n",
       "    </tr>\n",
       "  </tbody>\n",
       "</table>\n",
       "</div>"
      ],
      "text/plain": [
       "          Tétel    Szín    Ár\n",
       "Zero       ball   white  5.56\n",
       "First       mug     red  4.20\n",
       "Second      pen   green  1.30\n",
       "Third    pencil   black  0.56\n",
       "Fourth  ashtray  yellow  2.75"
      ]
     },
     "execution_count": 48,
     "metadata": {},
     "output_type": "execute_result"
    }
   ],
   "source": [
    "reNmColumnsDict = {'item':'Tétel','color':'Szín','price':'Ár'}\n",
    "f.rename(index=reindexDict,columns=reNmColumnsDict)"
   ]
  },
  {
   "cell_type": "markdown",
   "metadata": {},
   "source": [
    "<p style=\"color:#6666CC;background-color:#050566;padding:18px;border:4px solid #050566;border-radius:8px;box-shadow:4px 4px 8px #050505;\">\n",
    "A quick note: this rename() function also return back with a midified copy, and do not touch the original data,\n",
    "so if you want to keep the result, you need to save it into a new object, (or try <code>inplace=true</code>).</p>"
   ]
  },
  {
   "cell_type": "markdown",
   "metadata": {},
   "source": [
    "## DISCRETIZATION and BINNING"
   ]
  },
  {
   "cell_type": "markdown",
   "metadata": {},
   "source": [
    "<p style=\"color:#6666CC;background-color:#050566;padding:18px;border:4px solid #050566;border-radius:8px;box-shadow:4px 4px 8px #050505;\">\n",
    "In case of DISCRETIZATION, we are in the situation, when we want to convert some kind of data into a categroical\n",
    "value range.<br>\n",
    "This can be a continous, or only a lot of discrete eleemnts. If we need to convert this to a smaller array, we\n",
    "use some kind of discretization.<br>\n",
    "In case of binning we also do a kind of discretization. The most relevant example maybe the HISTOGRAM.</p> "
   ]
  },
  {
   "cell_type": "code",
   "execution_count": 49,
   "metadata": {},
   "outputs": [],
   "source": [
    "# Lets see some example:\n",
    "results = [12,34,67,55,28,90,99,12,3,56,74,44,87,23,49,89,87]"
   ]
  },
  {
   "cell_type": "code",
   "execution_count": 50,
   "metadata": {},
   "outputs": [
    {
     "data": {
      "text/plain": [
       "[(0, 25], (25, 50], (50, 75], (50, 75], (25, 50], ..., (75, 100], (0, 25], (25, 50], (75, 100], (75, 100]]\n",
       "Length: 17\n",
       "Categories (4, interval[int64]): [(0, 25] < (25, 50] < (50, 75] < (75, 100]]"
      ]
     },
     "execution_count": 50,
     "metadata": {},
     "output_type": "execute_result"
    }
   ],
   "source": [
    "# Assume, that we know, that th values are ranged between 0,and 100. Now define the bins:\n",
    "bins = [0,25,50,75,100]\n",
    "# Now wih the bins and the help of the cut() function we can get an arra, which gives us the relevan bin, for all\n",
    "# the items in our series\n",
    "cats = pd.cut(results,bins)\n",
    "cats"
   ]
  },
  {
   "cell_type": "code",
   "execution_count": 51,
   "metadata": {},
   "outputs": [
    {
     "data": {
      "text/plain": [
       "IntervalIndex([(0, 25], (25, 50], (50, 75], (75, 100]],\n",
       "              closed='right',\n",
       "              dtype='interval[int64]')"
      ]
     },
     "execution_count": 51,
     "metadata": {},
     "output_type": "execute_result"
    }
   ],
   "source": [
    "# The result has a member \"categories\" which we can check, and get the bin list:\n",
    "cats.categories"
   ]
  },
  {
   "cell_type": "code",
   "execution_count": 52,
   "metadata": {},
   "outputs": [
    {
     "data": {
      "text/plain": [
       "array([0, 1, 2, 2, 1, 3, 3, 0, 0, 2, 2, 1, 3, 0, 1, 3, 3], dtype=int8)"
      ]
     },
     "execution_count": 52,
     "metadata": {},
     "output_type": "execute_result"
    }
   ],
   "source": [
    "# The result has also a member \"codes\" which contains the id of the bins for all element:\n",
    "cats.codes"
   ]
  },
  {
   "cell_type": "code",
   "execution_count": 53,
   "metadata": {},
   "outputs": [
    {
     "data": {
      "text/plain": [
       "(75, 100]    5\n",
       "(50, 75]     4\n",
       "(25, 50]     4\n",
       "(0, 25]      4\n",
       "dtype: int64"
      ]
     },
     "execution_count": 53,
     "metadata": {},
     "output_type": "execute_result"
    }
   ],
   "source": [
    "# With the good old value_counts we can even check the counts in categories:\n",
    "pd.value_counts(cats)"
   ]
  },
  {
   "cell_type": "code",
   "execution_count": 57,
   "metadata": {},
   "outputs": [
    {
     "data": {
      "text/plain": [
       "<AxesSubplot:>"
      ]
     },
     "execution_count": 57,
     "metadata": {},
     "output_type": "execute_result"
    },
    {
     "data": {
      "image/png": "[encoded data removed]",
      "text/plain": [
       "<Figure size 432x288 with 1 Axes>"
      ]
     },
     "metadata": {
      "needs_background": "light"
     },
     "output_type": "display_data"
    }
   ],
   "source": [
    "sns.barplot(x=cats.categories,y=pd.value_counts(cats))"
   ]
  },
  {
   "cell_type": "code",
   "execution_count": 60,
   "metadata": {},
   "outputs": [],
   "source": [
    "# One specialty of cut=() function:\n",
    "# we can add name to the bins instead of seeing their definitions!\n",
    "# For this we have to use the \"lables\" parameter\n",
    "bin_names=['kevés','elegendő','megfelelő','jó','sok']\n",
    "bins = [0,20,40,60,80,100]\n",
    "cats = pd.cut(results,bins=bins,labels=bin_names)"
   ]
  },
  {
   "cell_type": "code",
   "execution_count": 62,
   "metadata": {},
   "outputs": [
    {
     "data": {
      "text/plain": [
       "<AxesSubplot:>"
      ]
     },
     "execution_count": 62,
     "metadata": {},
     "output_type": "execute_result"
    },
    {
     "data": {
      "image/png": "[encoded data removed]",
      "text/plain": [
       "<Figure size 432x288 with 1 Axes>"
      ]
     },
     "metadata": {
      "needs_background": "light"
     },
     "output_type": "display_data"
    }
   ],
   "source": [
    "sns.barplot(x=cats.categories,y=pd.value_counts(cats))"
   ]
  },
  {
   "cell_type": "code",
   "execution_count": 63,
   "metadata": {},
   "outputs": [],
   "source": [
    "# There is a convenient use of the cut() function in which we can use only one integer insted of bin ranges \n",
    "# defined in a list. \n",
    "# In this case, pandas will define such number of bins, we use as parameters.\n",
    "cats2 = pd.cut(results,10)"
   ]
  },
  {
   "cell_type": "code",
   "execution_count": 64,
   "metadata": {},
   "outputs": [
    {
     "data": {
      "text/plain": [
       "IntervalIndex([(2.904, 12.6], (12.6, 22.2], (22.2, 31.8], (31.8, 41.4], (41.4, 51.0], (51.0, 60.6], (60.6, 70.2], (70.2, 79.8], (79.8, 89.4], (89.4, 99.0]],\n",
       "              closed='right',\n",
       "              dtype='interval[float64]')"
      ]
     },
     "execution_count": 64,
     "metadata": {},
     "output_type": "execute_result"
    }
   ],
   "source": [
    "cats2.categories"
   ]
  },
  {
   "cell_type": "code",
   "execution_count": 70,
   "metadata": {},
   "outputs": [
    {
     "data": {
      "text/plain": [
       "<AxesSubplot:>"
      ]
     },
     "execution_count": 70,
     "metadata": {},
     "output_type": "execute_result"
    },
    {
     "data": {
      "image/png": "[encoded data removed]",
      "text/plain": [
       "<Figure size 864x360 with 1 Axes>"
      ]
     },
     "metadata": {
      "needs_background": "light"
     },
     "output_type": "display_data"
    }
   ],
   "source": [
    "plt.figure(figsize=(12,5))\n",
    "sns.barplot(x=cats2.categories,y=pd.value_counts(cats2))"
   ]
  },
  {
   "cell_type": "code",
   "execution_count": null,
   "metadata": {},
   "outputs": [],
   "source": []
  }
 ],
 "metadata": {
  "kernelspec": {
   "display_name": "Python 3",
   "language": "python",
   "name": "python3"
  },
  "language_info": {
   "codemirror_mode": {
    "name": "ipython",
    "version": 3
   },
   "file_extension": ".py",
   "mimetype": "text/x-python",
   "name": "python",
   "nbconvert_exporter": "python",
   "pygments_lexer": "ipython3",
   "version": "3.8.5"
  }
 },
 "nbformat": 4,
 "nbformat_minor": 4
}
