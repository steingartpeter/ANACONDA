{
 "cells": [
  {
   "cell_type": "markdown",
   "metadata": {},
   "source": [
    "# Lets code linear regession in python!"
   ]
  },
  {
   "cell_type": "markdown",
   "metadata": {},
   "source": [
    "Theory:\n",
    "<br>In linear regression we supopose that there is some kind fo linear relation between variables\n",
    "<br>In this case theis connection can e describead as y=mx+b\n",
    "<br>From which:\n",
    "<br>m = (avg(x)*avg(y)-avg(xy))/((avg(x))^2-(avg(x)^2))\n",
    "<br>b = avg(y) - m*(avg(x))"
   ]
  },
  {
   "cell_type": "code",
   "execution_count": 19,
   "metadata": {},
   "outputs": [],
   "source": [
    "from statistics import mean\n",
    "import numpy as np\n",
    "import matplotlib.pyplot as plt\n",
    "from matplotlib import style"
   ]
  },
  {
   "cell_type": "code",
   "execution_count": 11,
   "metadata": {},
   "outputs": [],
   "source": [
    "# 2 sample list for x, and y\n",
    "xs = np.array([1,2,3,4,5,6],dtype=np.float64)\n",
    "ys = np.array([5,4,6,5,6,7],dtype=np.float64)"
   ]
  },
  {
   "cell_type": "code",
   "execution_count": 12,
   "metadata": {},
   "outputs": [
    {
     "data": {
      "image/png": "[encoded data removed]",
      "text/plain": [
       "<Figure size 432x288 with 1 Axes>"
      ]
     },
     "metadata": {
      "needs_background": "light"
     },
     "output_type": "display_data"
    }
   ],
   "source": [
    "plt.scatter(xs,ys)\n",
    "plt.show()"
   ]
  },
  {
   "cell_type": "code",
   "execution_count": 16,
   "metadata": {},
   "outputs": [
    {
     "name": "stdout",
     "output_type": "stream",
     "text": [
      "m:  0.42857142857142866 , b:  4.0\n"
     ]
    }
   ],
   "source": [
    "def best_fit_sloap_and_intercept(xs,ys):\n",
    "    m = 0\n",
    "    mean_x = mean(xs)\n",
    "    mean_y = mean(ys)\n",
    "    mean_xy = mean(xs*ys)\n",
    "    sq_mean_x = mean_x**2\n",
    "    mean_sq_x = mean(xs*xs)\n",
    "    m = ((mean_x*mean_y) - (mean_xy))/(sq_mean_x-mean_sq_x)\n",
    "    b = mean_y - (m*mean_x)\n",
    "    return m,b\n",
    "bfs_m, bfs_b = best_fit_sloap_and_intercept(xs,ys)\n",
    "print(\"m: \",bfs_m,\", b: \",bfs_b)"
   ]
  },
  {
   "cell_type": "code",
   "execution_count": 18,
   "metadata": {},
   "outputs": [],
   "source": [
    "# Lets see the line defined by our regression function\n",
    "regression_line = [(bfs_m*x)+bfs_b for x in xs]"
   ]
  },
  {
   "cell_type": "code",
   "execution_count": 20,
   "metadata": {},
   "outputs": [],
   "source": [
    "#Som setyle to be nice\n",
    "style.use('fivethirtyeight')"
   ]
  },
  {
   "cell_type": "code",
   "execution_count": 21,
   "metadata": {},
   "outputs": [
    {
     "data": {
      "image/png": "[encoded data removed]",
      "text/plain": [
       "<Figure size 432x288 with 1 Axes>"
      ]
     },
     "metadata": {},
     "output_type": "display_data"
    }
   ],
   "source": [
    "#And then plot the scatter plot for the data, and the regr.line for our function \n",
    "plt.scatter(xs,ys)\n",
    "plt.plot(regression_line)\n",
    "plt.show()"
   ]
  },
  {
   "cell_type": "code",
   "execution_count": null,
   "metadata": {},
   "outputs": [],
   "source": [
    "#Now see some prediction based our lin regr model\n",
    "predict_x = 8\n",
    "predic_y = bfs_m*predict_x+bfs_b\n",
    "plt.scatter(xs,ys)\n",
    "plt.scatter\n",
    "plt.plot(regression_line)\n",
    "plt.show()"
   ]
  }
 ],
 "metadata": {
  "kernelspec": {
   "display_name": "Python 3",
   "language": "python",
   "name": "python3"
  },
  "language_info": {
   "codemirror_mode": {
    "name": "ipython",
    "version": 3
   },
   "file_extension": ".py",
   "mimetype": "text/x-python",
   "name": "python",
   "nbconvert_exporter": "python",
   "pygments_lexer": "ipython3",
   "version": "3.8.3"
  }
 },
 "nbformat": 4,
 "nbformat_minor": 4
}
