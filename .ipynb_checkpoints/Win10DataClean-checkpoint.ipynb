{
 "cells": [
  {
   "cell_type": "code",
   "execution_count": 37,
   "metadata": {},
   "outputs": [],
   "source": [
    "import numpy as np\n",
    "import pandas as pd\n",
    "import matplotlib.pyplot as plt\n",
    "%matplotlib inline\n",
    "# Some initial pandas setup\n",
    "pd.set_option('display.precision',3)\n",
    "pd.set_option(\"display.expand_frame_repr\", False)\n",
    "pd.set_option(\"display.max_rows\", 25)"
   ]
  },
  {
   "cell_type": "code",
   "execution_count": 8,
   "metadata": {},
   "outputs": [],
   "source": [
    "import mysql.connector as db"
   ]
  },
  {
   "cell_type": "code",
   "execution_count": 9,
   "metadata": {},
   "outputs": [],
   "source": [
    "con = mysql.connector.connect(host='localhost',user='ax07998',password='Abcd1234.',database='hu_monitor')"
   ]
  },
  {
   "cell_type": "code",
   "execution_count": null,
   "metadata": {},
   "outputs": [],
   "source": [
    "df = pd.read_sql('SELECT * FROM hu_monitor.kicsomdata',con)\n",
    "df.info()\n",
    "df.shape\n",
    "df.describe()"
   ]
  },
  {
   "cell_type": "markdown",
   "metadata": {},
   "source": [
    "## Lets see, what the describe() function shows us"
   ]
  },
  {
   "cell_type": "markdown",
   "metadata": {},
   "source": [
    "We have 8349 records<br>\n",
    "We do not need recid, and tevid, we should drop them<br>\n",
    "We have kind of strange times:<br>\n",
    "<ul>\n",
    "    <li>-1 day 6 hours</li>\n",
    "    <li>We got 17 days and 7 hours</li>\n",
    "</ul>\n",
    "We should chnage volume from CCM to CD3 at least\n",
    "We should convert the datetime (idotartam) to number of minutes, to be able calculate line/hour\n",
    "We should make consistent casing for user ids\n"
   ]
  },
  {
   "cell_type": "code",
   "execution_count": null,
   "metadata": {},
   "outputs": [],
   "source": [
    "df.head()"
   ]
  },
  {
   "cell_type": "code",
   "execution_count": null,
   "metadata": {},
   "outputs": [],
   "source": [
    "df1 = df.drop(['recid','tevid'],axis='columns')\n",
    "df1.index.name='index'\n",
    "df1.head()"
   ]
  },
  {
   "cell_type": "code",
   "execution_count": 38,
   "metadata": {},
   "outputs": [
    {
     "data": {
      "text/html": [
       "<div>\n",
       "<style scoped>\n",
       "    .dataframe tbody tr th:only-of-type {\n",
       "        vertical-align: middle;\n",
       "    }\n",
       "\n",
       "    .dataframe tbody tr th {\n",
       "        vertical-align: top;\n",
       "    }\n",
       "\n",
       "    .dataframe thead th {\n",
       "        text-align: right;\n",
       "    }\n",
       "</style>\n",
       "<table border=\"1\" class=\"dataframe\">\n",
       "  <thead>\n",
       "    <tr style=\"text-align: right;\">\n",
       "      <th></th>\n",
       "      <th>kezdAx</th>\n",
       "      <th>vegezAX</th>\n",
       "      <th>kicsAllapot</th>\n",
       "      <th>huid3</th>\n",
       "      <th>kicsomKezdDat</th>\n",
       "      <th>kicsomVegDat</th>\n",
       "      <th>idotartam</th>\n",
       "      <th>sorok</th>\n",
       "      <th>totveight</th>\n",
       "      <th>totvol</th>\n",
       "      <th>totDara</th>\n",
       "    </tr>\n",
       "    <tr>\n",
       "      <th>index</th>\n",
       "      <th></th>\n",
       "      <th></th>\n",
       "      <th></th>\n",
       "      <th></th>\n",
       "      <th></th>\n",
       "      <th></th>\n",
       "      <th></th>\n",
       "      <th></th>\n",
       "      <th></th>\n",
       "      <th></th>\n",
       "      <th></th>\n",
       "    </tr>\n",
       "  </thead>\n",
       "  <tbody>\n",
       "    <tr>\n",
       "      <th>0</th>\n",
       "      <td>a141001</td>\n",
       "      <td>a141001</td>\n",
       "      <td>KICSOM VÉGE KISANY URGENT</td>\n",
       "      <td>LEE436</td>\n",
       "      <td>2020-04-24 12:27:16</td>\n",
       "      <td>2020-04-24 12:11:34</td>\n",
       "      <td>00:15:42</td>\n",
       "      <td>31</td>\n",
       "      <td>82.007</td>\n",
       "      <td>1.656e+06</td>\n",
       "      <td>70</td>\n",
       "    </tr>\n",
       "    <tr>\n",
       "      <th>1</th>\n",
       "      <td>a141001</td>\n",
       "      <td>a141001</td>\n",
       "      <td>KICSOM VÉGE KISANY URGENT</td>\n",
       "      <td>119384</td>\n",
       "      <td>2020-04-24 12:57:49</td>\n",
       "      <td>2020-04-24 12:28:30</td>\n",
       "      <td>00:29:19</td>\n",
       "      <td>51</td>\n",
       "      <td>57.239</td>\n",
       "      <td>2.222e+05</td>\n",
       "      <td>146</td>\n",
       "    </tr>\n",
       "    <tr>\n",
       "      <th>2</th>\n",
       "      <td>a141001</td>\n",
       "      <td>a141001</td>\n",
       "      <td>KICSOM VÉGE KISANY URGENT</td>\n",
       "      <td>LEE391</td>\n",
       "      <td>2020-04-24 13:13:24</td>\n",
       "      <td>2020-04-24 13:00:52</td>\n",
       "      <td>00:12:32</td>\n",
       "      <td>16</td>\n",
       "      <td>42.188</td>\n",
       "      <td>2.340e+05</td>\n",
       "      <td>28</td>\n",
       "    </tr>\n",
       "    <tr>\n",
       "      <th>3</th>\n",
       "      <td>a141001</td>\n",
       "      <td>a141001</td>\n",
       "      <td>KICSOM VÉGE KISANY URGENT</td>\n",
       "      <td>LEE397</td>\n",
       "      <td>2020-04-24 13:25:35</td>\n",
       "      <td>2020-04-24 13:13:31</td>\n",
       "      <td>00:12:04</td>\n",
       "      <td>14</td>\n",
       "      <td>53.676</td>\n",
       "      <td>2.977e+05</td>\n",
       "      <td>18</td>\n",
       "    </tr>\n",
       "    <tr>\n",
       "      <th>4</th>\n",
       "      <td>a141001</td>\n",
       "      <td>a141001</td>\n",
       "      <td>KICSOM VÉGE KISANY URGENT</td>\n",
       "      <td>119848</td>\n",
       "      <td>2020-04-24 14:00:13</td>\n",
       "      <td>2020-04-24 13:27:37</td>\n",
       "      <td>00:32:36</td>\n",
       "      <td>72</td>\n",
       "      <td>28.120</td>\n",
       "      <td>9.613e+04</td>\n",
       "      <td>264</td>\n",
       "    </tr>\n",
       "  </tbody>\n",
       "</table>\n",
       "</div>"
      ],
      "text/plain": [
       "        kezdAx  vegezAX                kicsAllapot   huid3       kicsomKezdDat        kicsomVegDat idotartam  sorok  totveight     totvol  totDara\n",
       "index                                                                                                                                             \n",
       "0      a141001  a141001  KICSOM VÉGE KISANY URGENT  LEE436 2020-04-24 12:27:16 2020-04-24 12:11:34  00:15:42     31     82.007  1.656e+06       70\n",
       "1      a141001  a141001  KICSOM VÉGE KISANY URGENT  119384 2020-04-24 12:57:49 2020-04-24 12:28:30  00:29:19     51     57.239  2.222e+05      146\n",
       "2      a141001  a141001  KICSOM VÉGE KISANY URGENT  LEE391 2020-04-24 13:13:24 2020-04-24 13:00:52  00:12:32     16     42.188  2.340e+05       28\n",
       "3      a141001  a141001  KICSOM VÉGE KISANY URGENT  LEE397 2020-04-24 13:25:35 2020-04-24 13:13:31  00:12:04     14     53.676  2.977e+05       18\n",
       "4      a141001  a141001  KICSOM VÉGE KISANY URGENT  119848 2020-04-24 14:00:13 2020-04-24 13:27:37  00:32:36     72     28.120  9.613e+04      264"
      ]
     },
     "execution_count": 38,
     "metadata": {},
     "output_type": "execute_result"
    }
   ],
   "source": [
    "# Lets see the negative times\n",
    "df1[df1['idotartam'] < pd.Timedelta(0)]\n",
    "# It seems, that the deleted state records can be deleted\n",
    "df1[df1['kicsAllapot'].str.contains('TÖRÖL')]\n",
    "# Ok, now we can delete all the items which are DELETED\n",
    "# To do this we need to find the correct selector for the problematic rows,\n",
    "# and negate the selector with \"~\"\n",
    "df2 = df1[~df1['kicsAllapot'].str.contains('TÖRÖL')]\n",
    "df2.head()"
   ]
  },
  {
   "cell_type": "code",
   "execution_count": 40,
   "metadata": {},
   "outputs": [
    {
     "name": "stderr",
     "output_type": "stream",
     "text": [
      "<ipython-input-40-25165c864807>:4: SettingWithCopyWarning: \n",
      "A value is trying to be set on a copy of a slice from a DataFrame.\n",
      "Try using .loc[row_indexer,col_indexer] = value instead\n",
      "\n",
      "See the caveats in the documentation: https://pandas.pydata.org/pandas-docs/stable/user_guide/indexing.html#returning-a-view-versus-a-copy\n",
      "  df2['kezdAx'] = df2['kezdAx'].str.lower()\n",
      "<ipython-input-40-25165c864807>:5: SettingWithCopyWarning: \n",
      "A value is trying to be set on a copy of a slice from a DataFrame.\n",
      "Try using .loc[row_indexer,col_indexer] = value instead\n",
      "\n",
      "See the caveats in the documentation: https://pandas.pydata.org/pandas-docs/stable/user_guide/indexing.html#returning-a-view-versus-a-copy\n",
      "  df2['vegezAX'] = df2['vegezAX'].str.lower()\n"
     ]
    },
    {
     "data": {
      "text/html": [
       "<div>\n",
       "<style scoped>\n",
       "    .dataframe tbody tr th:only-of-type {\n",
       "        vertical-align: middle;\n",
       "    }\n",
       "\n",
       "    .dataframe tbody tr th {\n",
       "        vertical-align: top;\n",
       "    }\n",
       "\n",
       "    .dataframe thead th {\n",
       "        text-align: right;\n",
       "    }\n",
       "</style>\n",
       "<table border=\"1\" class=\"dataframe\">\n",
       "  <thead>\n",
       "    <tr style=\"text-align: right;\">\n",
       "      <th></th>\n",
       "      <th>kezdAx</th>\n",
       "      <th>vegezAX</th>\n",
       "      <th>kicsAllapot</th>\n",
       "      <th>huid3</th>\n",
       "      <th>kicsomKezdDat</th>\n",
       "      <th>kicsomVegDat</th>\n",
       "      <th>idotartam</th>\n",
       "      <th>sorok</th>\n",
       "      <th>totveight</th>\n",
       "      <th>totvol</th>\n",
       "      <th>totDara</th>\n",
       "    </tr>\n",
       "    <tr>\n",
       "      <th>index</th>\n",
       "      <th></th>\n",
       "      <th></th>\n",
       "      <th></th>\n",
       "      <th></th>\n",
       "      <th></th>\n",
       "      <th></th>\n",
       "      <th></th>\n",
       "      <th></th>\n",
       "      <th></th>\n",
       "      <th></th>\n",
       "      <th></th>\n",
       "    </tr>\n",
       "  </thead>\n",
       "  <tbody>\n",
       "  </tbody>\n",
       "</table>\n",
       "</div>"
      ],
      "text/plain": [
       "Empty DataFrame\n",
       "Columns: [kezdAx, vegezAX, kicsAllapot, huid3, kicsomKezdDat, kicsomVegDat, idotartam, sorok, totveight, totvol, totDara]\n",
       "Index: []"
      ]
     },
     "execution_count": 40,
     "metadata": {},
     "output_type": "execute_result"
    }
   ],
   "source": [
    "# Lets see the mixed case of the ipns...\n",
    "df2[df2['kezdAx'].str.startswith('A')]\n",
    "# We need to have same casing for ipns, so convert them all to lowercase\n",
    "df2['kezdAx'] = df2['kezdAx'].str.lower()\n",
    "df2['vegezAX'] = df2['vegezAX'].str.lower()\n",
    "# Lets see the result, we should have none :).\n",
    "df2[df2['kezdAx'].str.startswith('A')]"
   ]
  },
  {
   "cell_type": "code",
   "execution_count": 44,
   "metadata": {},
   "outputs": [
    {
     "ename": "TypeError",
     "evalue": "scatter() missing 1 required positional argument: 'y'",
     "output_type": "error",
     "traceback": [
      "\u001b[1;31m---------------------------------------------------------------------------\u001b[0m",
      "\u001b[1;31mTypeError\u001b[0m                                 Traceback (most recent call last)",
      "\u001b[1;32m<ipython-input-44-40ccde3de78d>\u001b[0m in \u001b[0;36m<module>\u001b[1;34m\u001b[0m\n\u001b[1;32m----> 1\u001b[1;33m \u001b[0mplt\u001b[0m\u001b[1;33m.\u001b[0m\u001b[0mscatter\u001b[0m\u001b[1;33m(\u001b[0m\u001b[0mdf2\u001b[0m\u001b[1;33m.\u001b[0m\u001b[0mgroupby\u001b[0m\u001b[1;33m(\u001b[0m\u001b[1;33m[\u001b[0m\u001b[1;34m'vegezAX'\u001b[0m\u001b[1;33m,\u001b[0m\u001b[1;34m'kicsAllapot'\u001b[0m\u001b[1;33m]\u001b[0m\u001b[1;33m)\u001b[0m\u001b[1;33m[\u001b[0m\u001b[1;34m'sorok'\u001b[0m\u001b[1;33m]\u001b[0m\u001b[1;33m.\u001b[0m\u001b[0msum\u001b[0m\u001b[1;33m(\u001b[0m\u001b[1;33m)\u001b[0m\u001b[1;33m.\u001b[0m\u001b[0mreset_index\u001b[0m\u001b[1;33m(\u001b[0m\u001b[1;33m)\u001b[0m\u001b[1;33m)\u001b[0m\u001b[1;33m\u001b[0m\u001b[1;33m\u001b[0m\u001b[0m\n\u001b[0m\u001b[0;32m      2\u001b[0m \u001b[0mplt\u001b[0m\u001b[1;33m.\u001b[0m\u001b[0mshow\u001b[0m\u001b[1;33m(\u001b[0m\u001b[1;33m)\u001b[0m\u001b[1;33m\u001b[0m\u001b[1;33m\u001b[0m\u001b[0m\n",
      "\u001b[1;31mTypeError\u001b[0m: scatter() missing 1 required positional argument: 'y'"
     ]
    }
   ],
   "source": [
    "plt.plot(df2.groupby(['vegezAX','kicsAllapot'])['sorok'].sum().reset_index())\n",
    "plt.show()"
   ]
  },
  {
   "cell_type": "code",
   "execution_count": null,
   "metadata": {},
   "outputs": [],
   "source": []
  }
 ],
 "metadata": {
  "kernelspec": {
   "display_name": "Python 3",
   "language": "python",
   "name": "python3"
  },
  "language_info": {
   "codemirror_mode": {
    "name": "ipython",
    "version": 3
   },
   "file_extension": ".py",
   "mimetype": "text/x-python",
   "name": "python",
   "nbconvert_exporter": "python",
   "pygments_lexer": "ipython3",
   "version": "3.8.3"
  }
 },
 "nbformat": 4,
 "nbformat_minor": 4
}
