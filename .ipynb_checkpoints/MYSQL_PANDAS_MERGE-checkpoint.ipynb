{
 "cells": [
  {
   "cell_type": "markdown",
   "metadata": {},
   "source": [
    "# DATA HANDLING WITH PANDAS"
   ]
  },
  {
   "cell_type": "markdown",
   "metadata": {},
   "source": [
    "<section>There is 3 steps which always must be done when we handle data in pandas:</section>\n",
    "<ol>\n",
    "    <li>DATA PREPARITION</li>\n",
    "    <li>DATA TRANSFORMATION</li>\n",
    "    <li>DATA AGGREGATION</li>\n",
    "</ol>"
   ]
  },
  {
   "cell_type": "markdown",
   "metadata": {},
   "source": [
    "## DATA PREPARITION"
   ]
  },
  {
   "cell_type": "markdown",
   "metadata": {},
   "source": [
    "Mostly this kind of operations are invlved:\n",
    "<ol>\n",
    "    <li>Loading</li>\n",
    "    <li>Assembling</li>\n",
    "    <li><b><u>Merging</u></b></li>\n",
    "    <li>Concatenating</li>\n",
    "    <li>Combining</li>\n",
    "    <li>Reshaping</li>\n",
    "    <li>Removing</li>\n",
    "</ol>\n"
   ]
  },
  {
   "cell_type": "code",
   "execution_count": 1,
   "metadata": {},
   "outputs": [],
   "source": [
    "import numpy as np\n",
    "import pandas as pd\n",
    "import mysql.connector as mysql\n",
    "dbCon = mysql.connect(host='localhost',user='root',password='AN003722040592la',database='sap_export_30')\n",
    "# qry = \"SELECT * FROM ltap LIMIT 100\"\n",
    "qry = \"SELECT * FROM hr_dev.berkatok;\"\n",
    "dfto = pd.read_sql(qry,dbCon)\n",
    "#qry = \"SELECT * FROM invntry.usr_tbl;\"\n",
    "qry = \"SELECT * FROM invntry.usr_tbl;\"\n",
    "dfusr = pd.read_sql(qry,dbCon)"
   ]
  },
  {
   "cell_type": "code",
   "execution_count": 2,
   "metadata": {},
   "outputs": [
    {
     "data": {
      "text/html": [
       "<div>\n",
       "<style scoped>\n",
       "    .dataframe tbody tr th:only-of-type {\n",
       "        vertical-align: middle;\n",
       "    }\n",
       "\n",
       "    .dataframe tbody tr th {\n",
       "        vertical-align: top;\n",
       "    }\n",
       "\n",
       "    .dataframe thead th {\n",
       "        text-align: right;\n",
       "    }\n",
       "</style>\n",
       "<table border=\"1\" class=\"dataframe\">\n",
       "  <thead>\n",
       "    <tr style=\"text-align: right;\">\n",
       "      <th></th>\n",
       "      <th>mrkt_id</th>\n",
       "      <th>mrkt_lrs</th>\n",
       "    </tr>\n",
       "  </thead>\n",
       "  <tbody>\n",
       "    <tr>\n",
       "      <th>0</th>\n",
       "      <td>1</td>\n",
       "      <td>[72, 97, 118, 105, 98, 195, 169, 114, 101, 115]</td>\n",
       "    </tr>\n",
       "    <tr>\n",
       "      <th>1</th>\n",
       "      <td>2</td>\n",
       "      <td>[195, 147, 114, 97, 98, 195, 169, 114, 101, 115]</td>\n",
       "    </tr>\n",
       "    <tr>\n",
       "      <th>2</th>\n",
       "      <td>3</td>\n",
       "      <td>[70, 105, 120, 32, 98, 195, 169, 114, 101, 115]</td>\n",
       "    </tr>\n",
       "    <tr>\n",
       "      <th>3</th>\n",
       "      <td>4</td>\n",
       "      <td>[69, 103, 121, 195, 169, 98, 32, 98, 195, 169,...</td>\n",
       "    </tr>\n",
       "    <tr>\n",
       "      <th>4</th>\n",
       "      <td>999</td>\n",
       "      <td>[77, 101, 103, 104, 97, 116, 195, 161, 114, 11...</td>\n",
       "    </tr>\n",
       "  </tbody>\n",
       "</table>\n",
       "</div>"
      ],
      "text/plain": [
       "   mrkt_id                                           mrkt_lrs\n",
       "0        1    [72, 97, 118, 105, 98, 195, 169, 114, 101, 115]\n",
       "1        2   [195, 147, 114, 97, 98, 195, 169, 114, 101, 115]\n",
       "2        3    [70, 105, 120, 32, 98, 195, 169, 114, 101, 115]\n",
       "3        4  [69, 103, 121, 195, 169, 98, 32, 98, 195, 169,...\n",
       "4      999  [77, 101, 103, 104, 97, 116, 195, 161, 114, 11..."
      ]
     },
     "execution_count": 2,
     "metadata": {},
     "output_type": "execute_result"
    }
   ],
   "source": [
    "dfto.head()"
   ]
  },
  {
   "cell_type": "code",
   "execution_count": 3,
   "metadata": {},
   "outputs": [],
   "source": [
    "# Kind of interesting thing:\n",
    "# is the databse has collation: bi [= bINARY] then we getback\n",
    "# BYTEARRAY, an not sting, here we convert them back to strings \n",
    "# dfusr['saplogin'] = dfusr['saplogin'].str.decode('utf-8')\n",
    "# dfusr['teljNev'] = dfusr['teljNev'].str.decode('utf-8')\n",
    "# dfusr['teamNev'] = dfusr['teamNev'].str.decode('utf-8')"
   ]
  },
  {
   "cell_type": "code",
   "execution_count": 4,
   "metadata": {},
   "outputs": [
    {
     "data": {
      "text/html": [
       "<div>\n",
       "<style scoped>\n",
       "    .dataframe tbody tr th:only-of-type {\n",
       "        vertical-align: middle;\n",
       "    }\n",
       "\n",
       "    .dataframe tbody tr th {\n",
       "        vertical-align: top;\n",
       "    }\n",
       "\n",
       "    .dataframe thead th {\n",
       "        text-align: right;\n",
       "    }\n",
       "</style>\n",
       "<table border=\"1\" class=\"dataframe\">\n",
       "  <thead>\n",
       "    <tr style=\"text-align: right;\">\n",
       "      <th></th>\n",
       "      <th>usr_id</th>\n",
       "      <th>usripn</th>\n",
       "      <th>usrVezNev</th>\n",
       "      <th>usrKzpNev</th>\n",
       "      <th>usrKerNev</th>\n",
       "      <th>usr_role</th>\n",
       "      <th>pwd_hash</th>\n",
       "      <th>lvl1MngId</th>\n",
       "      <th>usr_email</th>\n",
       "      <th>init_ltrs_code</th>\n",
       "    </tr>\n",
       "  </thead>\n",
       "  <tbody>\n",
       "    <tr>\n",
       "      <th>0</th>\n",
       "      <td>1</td>\n",
       "      <td>AX07055</td>\n",
       "      <td>Antal</td>\n",
       "      <td>Ildikó</td>\n",
       "      <td>Ágnes</td>\n",
       "      <td>8</td>\n",
       "      <td>C70B5DD9EBFB6F51D09D4132B7170C9D20750A7852F006...</td>\n",
       "      <td>1</td>\n",
       "      <td>agnes.antal@reanult.hu</td>\n",
       "      <td>AAL</td>\n",
       "    </tr>\n",
       "    <tr>\n",
       "      <th>1</th>\n",
       "      <td>2</td>\n",
       "      <td>AX07206</td>\n",
       "      <td>Árvai</td>\n",
       "      <td></td>\n",
       "      <td>László</td>\n",
       "      <td>1</td>\n",
       "      <td>C70B5DD9EBFB6F51D09D4132B7170C9D20750A7852F006...</td>\n",
       "      <td>1</td>\n",
       "      <td>laszlo.arvai@reanult.hu</td>\n",
       "      <td>LAA</td>\n",
       "    </tr>\n",
       "    <tr>\n",
       "      <th>2</th>\n",
       "      <td>3</td>\n",
       "      <td>AX07207</td>\n",
       "      <td>Avar</td>\n",
       "      <td></td>\n",
       "      <td>Péter</td>\n",
       "      <td>2</td>\n",
       "      <td>C70B5DD9EBFB6F51D09D4132B7170C9D20750A7852F006...</td>\n",
       "      <td>1</td>\n",
       "      <td>peter.avar@reanult.hu</td>\n",
       "      <td>PAR</td>\n",
       "    </tr>\n",
       "    <tr>\n",
       "      <th>3</th>\n",
       "      <td>4</td>\n",
       "      <td>AX22816</td>\n",
       "      <td>Babiák</td>\n",
       "      <td></td>\n",
       "      <td>Nikoleta</td>\n",
       "      <td>5</td>\n",
       "      <td>C70B5DD9EBFB6F51D09D4132B7170C9D20750A7852F006...</td>\n",
       "      <td>1</td>\n",
       "      <td>nikoleta.babiak@reanult.hu</td>\n",
       "      <td>NBK</td>\n",
       "    </tr>\n",
       "    <tr>\n",
       "      <th>4</th>\n",
       "      <td>5</td>\n",
       "      <td>AX16747</td>\n",
       "      <td>Bakos</td>\n",
       "      <td></td>\n",
       "      <td>Szabolcs</td>\n",
       "      <td>1</td>\n",
       "      <td>C70B5DD9EBFB6F51D09D4132B7170C9D20750A7852F006...</td>\n",
       "      <td>1</td>\n",
       "      <td>szabolcs.bakos@reanult.hu</td>\n",
       "      <td>SBS</td>\n",
       "    </tr>\n",
       "  </tbody>\n",
       "</table>\n",
       "</div>"
      ],
      "text/plain": [
       "   usr_id   usripn usrVezNev usrKzpNev usrKerNev  usr_role  \\\n",
       "0       1  AX07055     Antal    Ildikó     Ágnes         8   \n",
       "1       2  AX07206     Árvai              László         1   \n",
       "2       3  AX07207      Avar               Péter         2   \n",
       "3       4  AX22816    Babiák            Nikoleta         5   \n",
       "4       5  AX16747     Bakos            Szabolcs         1   \n",
       "\n",
       "                                            pwd_hash  lvl1MngId  \\\n",
       "0  C70B5DD9EBFB6F51D09D4132B7170C9D20750A7852F006...          1   \n",
       "1  C70B5DD9EBFB6F51D09D4132B7170C9D20750A7852F006...          1   \n",
       "2  C70B5DD9EBFB6F51D09D4132B7170C9D20750A7852F006...          1   \n",
       "3  C70B5DD9EBFB6F51D09D4132B7170C9D20750A7852F006...          1   \n",
       "4  C70B5DD9EBFB6F51D09D4132B7170C9D20750A7852F006...          1   \n",
       "\n",
       "                    usr_email init_ltrs_code  \n",
       "0      agnes.antal@reanult.hu            AAL  \n",
       "1     laszlo.arvai@reanult.hu            LAA  \n",
       "2       peter.avar@reanult.hu            PAR  \n",
       "3  nikoleta.babiak@reanult.hu            NBK  \n",
       "4   szabolcs.bakos@reanult.hu            SBS  "
      ]
     },
     "execution_count": 4,
     "metadata": {},
     "output_type": "execute_result"
    }
   ],
   "source": [
    "dfusr.head()"
   ]
  },
  {
   "cell_type": "code",
   "execution_count": 5,
   "metadata": {},
   "outputs": [
    {
     "data": {
      "text/plain": [
       "<bound method DataFrame.info of    mrkt_id                                           mrkt_lrs\n",
       "0        1    [72, 97, 118, 105, 98, 195, 169, 114, 101, 115]\n",
       "1        2   [195, 147, 114, 97, 98, 195, 169, 114, 101, 115]\n",
       "2        3    [70, 105, 120, 32, 98, 195, 169, 114, 101, 115]\n",
       "3        4  [69, 103, 121, 195, 169, 98, 32, 98, 195, 169,...\n",
       "4      999  [77, 101, 103, 104, 97, 116, 195, 161, 114, 11...>"
      ]
     },
     "execution_count": 5,
     "metadata": {},
     "output_type": "execute_result"
    }
   ],
   "source": [
    "dfto.head(1)\n",
    "dfto.info"
   ]
  },
  {
   "cell_type": "code",
   "execution_count": 6,
   "metadata": {},
   "outputs": [],
   "source": [
    "# pd.merge(dfto,dfusr,left_on='cnfUsr',right_on='saplogin')"
   ]
  },
  {
   "cell_type": "code",
   "execution_count": 7,
   "metadata": {},
   "outputs": [],
   "source": [
    "# MERGE = JOIN\n",
    "# Syntax:\n",
    "# pd.merge(Table_A, Table_B,columnA,columnB,[left,right,outer,inner])\n",
    "# dfMrgd = pd.merge(dfto,dfusr,left_on='cnfUsr',right_on='saplogin')\n",
    "# dfMrgd = pd.merge(dfto,dfusr,left_on='cnfUsr',right_on='saplogin',how='right')\n",
    "# dfMrgd = pd.merge(dfto,dfusr,left_on='cnfUsr',right_on='saplogin',how='left')"
   ]
  },
  {
   "cell_type": "code",
   "execution_count": 8,
   "metadata": {},
   "outputs": [
    {
     "ename": "NameError",
     "evalue": "name 'dfMrgd' is not defined",
     "output_type": "error",
     "traceback": [
      "\u001b[0;31m---------------------------------------------------------------------------\u001b[0m",
      "\u001b[0;31mNameError\u001b[0m                                 Traceback (most recent call last)",
      "\u001b[0;32m<ipython-input-8-99628af4d385>\u001b[0m in \u001b[0;36m<module>\u001b[0;34m\u001b[0m\n\u001b[0;32m----> 1\u001b[0;31m \u001b[0mdfMrgd\u001b[0m\u001b[0;34m.\u001b[0m\u001b[0mhead\u001b[0m\u001b[0;34m(\u001b[0m\u001b[0;34m)\u001b[0m\u001b[0;34m\u001b[0m\u001b[0;34m\u001b[0m\u001b[0m\n\u001b[0m",
      "\u001b[0;31mNameError\u001b[0m: name 'dfMrgd' is not defined"
     ]
    }
   ],
   "source": [
    "dfMrgd.head()"
   ]
  },
  {
   "cell_type": "code",
   "execution_count": null,
   "metadata": {},
   "outputs": [],
   "source": [
    "dfMrgd.info()\n",
    "dfMrgd.shape"
   ]
  },
  {
   "cell_type": "markdown",
   "metadata": {},
   "source": [
    "## Lets see some PIVOTing"
   ]
  },
  {
   "cell_type": "markdown",
   "metadata": {},
   "source": [
    "<em style=\"font-weight:bold;color:#FF6666;font-size:18px;\">Stacking</em> = rotates of pivots the dataframe, converting columns to rows<br>\n",
    "<em style=\"font-weight:bold;color:#FF6666;font-size:18px;\">Unstacking</em> = Converts rows into columns"
   ]
  },
  {
   "cell_type": "code",
   "execution_count": null,
   "metadata": {},
   "outputs": [],
   "source": [
    "frame = pd.DataFrame(np.arange(9).reshape(3,3),index=['fehér','fekete','vörös'],columns=['labda','toll','ceruza'])"
   ]
  },
  {
   "cell_type": "code",
   "execution_count": null,
   "metadata": {},
   "outputs": [],
   "source": [
    "frame"
   ]
  },
  {
   "cell_type": "code",
   "execution_count": null,
   "metadata": {},
   "outputs": [],
   "source": [
    "ser5 = frame.stack()"
   ]
  },
  {
   "cell_type": "code",
   "execution_count": null,
   "metadata": {},
   "outputs": [],
   "source": [
    "ser5"
   ]
  },
  {
   "cell_type": "code",
   "execution_count": null,
   "metadata": {},
   "outputs": [],
   "source": [
    "ser6 = frame.unstack()"
   ]
  },
  {
   "cell_type": "code",
   "execution_count": null,
   "metadata": {},
   "outputs": [],
   "source": [
    "ser6"
   ]
  },
  {
   "cell_type": "code",
   "execution_count": null,
   "metadata": {},
   "outputs": [],
   "source": [
    "ser7 = ser5.unstack()"
   ]
  },
  {
   "cell_type": "code",
   "execution_count": null,
   "metadata": {},
   "outputs": [],
   "source": [
    "ser7"
   ]
  },
  {
   "cell_type": "code",
   "execution_count": null,
   "metadata": {},
   "outputs": [],
   "source": [
    "ser8 = ser5.unstack(0)"
   ]
  },
  {
   "cell_type": "code",
   "execution_count": null,
   "metadata": {},
   "outputs": [],
   "source": [
    "ser8"
   ]
  },
  {
   "cell_type": "code",
   "execution_count": null,
   "metadata": {},
   "outputs": [],
   "source": [
    "# In case of unstack we can give the number of the column genertor index among the hierarchical indices\n",
    "ser8 = ser5.unstack(1)"
   ]
  },
  {
   "cell_type": "code",
   "execution_count": null,
   "metadata": {},
   "outputs": [],
   "source": [
    "ser8"
   ]
  },
  {
   "cell_type": "markdown",
   "metadata": {},
   "source": [
    "## Pivot from long to wide\n",
    "\n",
    "In this case we have a \"long\" datarange. For example a logfile, or something like a sensor reading fro long time.\n",
    "This means, that the categries, which normally can be handled as columns, are in separated rows instead.\n",
    "Lets see, how can we crate columns fom them.\n",
    "----------------------------------------------------------------------------------------------"
   ]
  },
  {
   "cell_type": "code",
   "execution_count": null,
   "metadata": {},
   "outputs": [],
   "source": [
    "longframe = pd.DataFrame({'szin':['fehér','fehér','fehér','fekete','fekete','fekete','piros','piros','piros'],\n",
    "            'cikk':['labda','toll','bögre','labda','toll','bögre','labda','toll','bögre'],\n",
    "            'ár':np.random.rand(9)})"
   ]
  },
  {
   "cell_type": "code",
   "execution_count": null,
   "metadata": {},
   "outputs": [],
   "source": [
    "longframe"
   ]
  },
  {
   "cell_type": "markdown",
   "metadata": {},
   "source": [
    "<p style=\"color:#6666CC;background-color:#050566;padding:18px;border:4px solid #050566;border-radius:8px;box-shadow:4px 4px 8px #050505;\">Well, in this case the set is quite long.<br>To make it more readable, we can make a wide one from this.<br>\n",
    "For this operation the DF.pivot() function comes in handy!</p>"
   ]
  },
  {
   "cell_type": "code",
   "execution_count": null,
   "metadata": {},
   "outputs": [],
   "source": [
    "wideframe = longframe.pivot('szin','cikk')"
   ]
  },
  {
   "cell_type": "code",
   "execution_count": null,
   "metadata": {},
   "outputs": [],
   "source": [
    "wideframe"
   ]
  },
  {
   "cell_type": "markdown",
   "metadata": {},
   "source": [
    "<p \n",
    "style=\"color:#6666CC;background-color:#050566;padding:18px;border:4px solid #050566;border-radius:8px;box-shadow:4px 4px 8px #050505;\">\n",
    "As we can see here, we got  simple price table, with the color, and item names as categories.</p>"
   ]
  },
  {
   "cell_type": "markdown",
   "metadata": {},
   "source": [
    "## The last element: REMOVING\n",
    "--------------------------------------------------------------\n",
    "In this section we see how can we remove rows, or columns"
   ]
  },
  {
   "cell_type": "code",
   "execution_count": null,
   "metadata": {},
   "outputs": [],
   "source": [
    "frame1 = pd.DataFrame(np.arange(9).reshape(3,3),\n",
    "                     index=['fehér','fekete','piros'],\n",
    "                     columns=['labda','toll','csésze'])"
   ]
  },
  {
   "cell_type": "code",
   "execution_count": null,
   "metadata": {},
   "outputs": [],
   "source": [
    "frame1"
   ]
  },
  {
   "cell_type": "markdown",
   "metadata": {},
   "source": [
    "<p style=\"color:#6666CC;background-color:#050566;padding:18px;border:4px solid #050566;border-radius:8px;box-shadow:4px 4px 8px #050505;\">\n",
    "Lets see how can we get rid of a column:<br>\n",
    "Easy: we just need the del command:<br>\n",
    "<code>del frame1['labda']<code>\n",
    "</p>"
   ]
  },
  {
   "cell_type": "code",
   "execution_count": null,
   "metadata": {},
   "outputs": [],
   "source": [
    "del frame1['labda']"
   ]
  },
  {
   "cell_type": "code",
   "execution_count": null,
   "metadata": {},
   "outputs": [],
   "source": [
    "frame1"
   ]
  },
  {
   "cell_type": "markdown",
   "metadata": {},
   "source": [
    "<p style=\"color:#6666CC;background-color:#050566;padding:18px;border:4px solid #050566;border-radius:8px;box-shadow:4px 4px 8px #050505;\">\n",
    "Instead, if we want to delete some <b><u>rows</u></b>:<br>\n",
    "Easy: we just need the <b><u>drop</u></b> command, and an <em>index</em>:<br>\n",
    "<code>frame1.drop['fekete']<code>\n",
    "</p>"
   ]
  },
  {
   "cell_type": "code",
   "execution_count": null,
   "metadata": {},
   "outputs": [],
   "source": [
    "frame1 = frame1.drop('fekete')\n",
    "frame1"
   ]
  },
  {
   "cell_type": "markdown",
   "metadata": {},
   "source": [
    "<p style=\"color:#CC9999;background-color:#660505;padding:18px;border:4px solid #050566;border-radius:8px;box-shadow:4px 4px 8px #050505;\">\n",
    "From the above examples it easy to see, that in case of del, the modification hapens instantly on the dataframe, and you can get back the original data with re-creation of the dataset.<br>\n",
    "-----------------------------------------------------------------------------------------------------------<br>\n",
    "While in the case of drop, it is the contrary, you need to assign the rsult of the operation to a (new) dataframe, to have a constant result.\n",
    "</p>"
   ]
  },
  {
   "cell_type": "markdown",
   "metadata": {},
   "source": [
    "# -------------------------------------------------------------------------------------------------------\n",
    "# DATA TRANSFORMATION\n",
    "# -------------------------------------------------------------------------------------------------------"
   ]
  },
  {
   "cell_type": "markdown",
   "metadata": {},
   "source": [
    "<p style=\"color:#6666CC;background-color:#050566;padding:18px;border:4px solid #050566;border-radius:8px;box-shadow:4px 4px 8px #050505;\">\n",
    "In the former section, we did the data preparition, which was mainly about <b>re-structurizing</b> our existing data, now we begin the data transformation phase.<br>\n",
    "While in the former section we mostly changed the structure of the data, columns, rows, re-structuring of these ones, deleting, or create on from the other, now we focus on the data content itslef.\n",
    "</p>"
   ]
  },
  {
   "cell_type": "code",
   "execution_count": null,
   "metadata": {},
   "outputs": [],
   "source": []
  }
 ],
 "metadata": {
  "kernelspec": {
   "display_name": "Python 3",
   "language": "python",
   "name": "python3"
  },
  "language_info": {
   "codemirror_mode": {
    "name": "ipython",
    "version": 3
   },
   "file_extension": ".py",
   "mimetype": "text/x-python",
   "name": "python",
   "nbconvert_exporter": "python",
   "pygments_lexer": "ipython3",
   "version": "3.8.3"
  }
 },
 "nbformat": 4,
 "nbformat_minor": 4
}
