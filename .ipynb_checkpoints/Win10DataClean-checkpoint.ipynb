{
 "cells": [
  {
   "cell_type": "code",
   "execution_count": 1,
   "metadata": {},
   "outputs": [],
   "source": [
    "import numpy as np\n",
    "import pandas as pd\n",
    "import matplotlib.pyplot as plt\n",
    "%matplotlib inline\n",
    "# Some initial pandas setup\n",
    "pd.set_option('display.precision',3)\n",
    "pd.set_option(\"display.expand_frame_repr\", False)\n",
    "pd.set_option(\"display.max_rows\", 25)"
   ]
  },
  {
   "cell_type": "code",
   "execution_count": 2,
   "metadata": {},
   "outputs": [],
   "source": [
    "import mysql.connector as db"
   ]
  },
  {
   "cell_type": "code",
   "execution_count": 3,
   "metadata": {},
   "outputs": [
    {
     "ename": "NameError",
     "evalue": "name 'mysql' is not defined",
     "output_type": "error",
     "traceback": [
      "\u001b[0;31m---------------------------------------------------------------------------\u001b[0m",
      "\u001b[0;31mNameError\u001b[0m                                 Traceback (most recent call last)",
      "\u001b[0;32m<ipython-input-3-47d9abd0aa2c>\u001b[0m in \u001b[0;36m<module>\u001b[0;34m\u001b[0m\n\u001b[0;32m----> 1\u001b[0;31m \u001b[0mcon\u001b[0m \u001b[0;34m=\u001b[0m \u001b[0mmysql\u001b[0m\u001b[0;34m.\u001b[0m\u001b[0mconnector\u001b[0m\u001b[0;34m.\u001b[0m\u001b[0mconnect\u001b[0m\u001b[0;34m(\u001b[0m\u001b[0mhost\u001b[0m\u001b[0;34m=\u001b[0m\u001b[0;34m'localhost'\u001b[0m\u001b[0;34m,\u001b[0m\u001b[0muser\u001b[0m\u001b[0;34m=\u001b[0m\u001b[0;34m'ax07998'\u001b[0m\u001b[0;34m,\u001b[0m\u001b[0mpassword\u001b[0m\u001b[0;34m=\u001b[0m\u001b[0;34m'Abcd1234.'\u001b[0m\u001b[0;34m,\u001b[0m\u001b[0mdatabase\u001b[0m\u001b[0;34m=\u001b[0m\u001b[0;34m'hu_monitor'\u001b[0m\u001b[0;34m)\u001b[0m\u001b[0;34m\u001b[0m\u001b[0;34m\u001b[0m\u001b[0m\n\u001b[0m",
      "\u001b[0;31mNameError\u001b[0m: name 'mysql' is not defined"
     ]
    }
   ],
   "source": [
    "con = db.connector.connect(host='localhost',user='ax07998',password='Abcd1234.',database='hu_monitor')"
   ]
  },
  {
   "cell_type": "code",
   "execution_count": null,
   "metadata": {},
   "outputs": [],
   "source": [
    "df = pd.read_sql('SELECT * FROM hu_monitor.kicsomdata',con)\n",
    "df.info()\n",
    "df.shape\n",
    "df.describe()"
   ]
  },
  {
   "cell_type": "markdown",
   "metadata": {},
   "source": [
    "## Lets see, what the describe() function shows us"
   ]
  },
  {
   "cell_type": "markdown",
   "metadata": {},
   "source": [
    "We have 8349 records<br>\n",
    "We do not need recid, and tevid, we should drop them<br>\n",
    "We have kind of strange times:<br>\n",
    "<ul>\n",
    "    <li>-1 day 6 hours</li>\n",
    "    <li>We got 17 days and 7 hours</li>\n",
    "</ul>\n",
    "We should chnage volume from CCM to CD3 at least\n",
    "We should convert the datetime (idotartam) to number of minutes, to be able calculate line/hour\n",
    "We should make consistent casing for user ids\n"
   ]
  },
  {
   "cell_type": "code",
   "execution_count": null,
   "metadata": {},
   "outputs": [],
   "source": [
    "df.head()"
   ]
  },
  {
   "cell_type": "code",
   "execution_count": null,
   "metadata": {},
   "outputs": [],
   "source": [
    "df1 = df.drop(['recid','tevid'],axis='columns')\n",
    "df1.index.name='index'\n",
    "df1.head()"
   ]
  },
  {
   "cell_type": "code",
   "execution_count": null,
   "metadata": {},
   "outputs": [],
   "source": [
    "# Lets see the negative times\n",
    "df1[df1['idotartam'] < pd.Timedelta(0)]\n",
    "# It seems, that the deleted state records can be deleted\n",
    "df1[df1['kicsAllapot'].str.contains('TÖRÖL')]\n",
    "# Ok, now we can delete all the items which are DELETED\n",
    "# To do this we need to find the correct selector for the problematic rows,\n",
    "# and negate the selector with \"~\"\n",
    "df2 = df1[~df1['kicsAllapot'].str.contains('TÖRÖL')]\n",
    "df2.head()"
   ]
  },
  {
   "cell_type": "code",
   "execution_count": null,
   "metadata": {},
   "outputs": [],
   "source": [
    "# Lets see the mixed case of the ipns...\n",
    "df2[df2['kezdAx'].str.startswith('A')]\n",
    "# We need to have same casing for ipns, so convert them all to lowercase\n",
    "df2['kezdAx'] = df2['kezdAx'].str.lower()\n",
    "df2['vegezAX'] = df2['vegezAX'].str.lower()\n",
    "# Lets see the result, we should have none :).\n",
    "df2[df2['kezdAx'].str.startswith('A')]"
   ]
  },
  {
   "cell_type": "code",
   "execution_count": null,
   "metadata": {},
   "outputs": [],
   "source": [
    "dfTmp = df2.groupby(['vegezAX','kicsAllapot'])['sorok'].sum().reset_index()\n",
    "# plt.plot(dfTmp['vegezAX'],dfTmp['sorok'])\n",
    "# plt.xticks(rotation=45)\n",
    "# plt.show()"
   ]
  },
  {
   "cell_type": "code",
   "execution_count": null,
   "metadata": {},
   "outputs": [],
   "source": [
    "# Now lets check the unpack which was longer than 4 hours:\n",
    "df3 = df2[~ ((df2['idotartam'] > pd.Timedelta('0 day 4 hour')) & (df2['kezdAx'] == 'ax07057'))]"
   ]
  },
  {
   "cell_type": "code",
   "execution_count": null,
   "metadata": {},
   "outputs": [],
   "source": [
    "df3[df3['idotartam'] > pd.Timedelta('0 day 4 hour')]"
   ]
  },
  {
   "cell_type": "code",
   "execution_count": 57,
   "metadata": {},
   "outputs": [
    {
     "name": "stderr",
     "output_type": "stream",
     "text": [
      "<ipython-input-57-3492184fc4a7>:2: SettingWithCopyWarning: \n",
      "A value is trying to be set on a copy of a slice from a DataFrame.\n",
      "Try using .loc[row_indexer,col_indexer] = value instead\n",
      "\n",
      "See the caveats in the documentation: https://pandas.pydata.org/pandas-docs/stable/user_guide/indexing.html#returning-a-view-versus-a-copy\n",
      "  df3['percek'] = df3['idotartam'].dt.total_seconds()/60\n"
     ]
    }
   ],
   "source": [
    "# Lets convert idotartam to minutes\n",
    "df3['percek'] = df3['idotartam'].dt.total_seconds()/60"
   ]
  },
  {
   "cell_type": "code",
   "execution_count": 58,
   "metadata": {},
   "outputs": [
    {
     "data": {
      "text/html": [
       "<div>\n",
       "<style scoped>\n",
       "    .dataframe tbody tr th:only-of-type {\n",
       "        vertical-align: middle;\n",
       "    }\n",
       "\n",
       "    .dataframe tbody tr th {\n",
       "        vertical-align: top;\n",
       "    }\n",
       "\n",
       "    .dataframe thead th {\n",
       "        text-align: right;\n",
       "    }\n",
       "</style>\n",
       "<table border=\"1\" class=\"dataframe\">\n",
       "  <thead>\n",
       "    <tr style=\"text-align: right;\">\n",
       "      <th></th>\n",
       "      <th>kezdAx</th>\n",
       "      <th>vegezAX</th>\n",
       "      <th>kicsAllapot</th>\n",
       "      <th>huid3</th>\n",
       "      <th>kicsomKezdDat</th>\n",
       "      <th>kicsomVegDat</th>\n",
       "      <th>idotartam</th>\n",
       "      <th>sorok</th>\n",
       "      <th>totveight</th>\n",
       "      <th>totvol</th>\n",
       "      <th>totDara</th>\n",
       "      <th>percek</th>\n",
       "    </tr>\n",
       "    <tr>\n",
       "      <th>index</th>\n",
       "      <th></th>\n",
       "      <th></th>\n",
       "      <th></th>\n",
       "      <th></th>\n",
       "      <th></th>\n",
       "      <th></th>\n",
       "      <th></th>\n",
       "      <th></th>\n",
       "      <th></th>\n",
       "      <th></th>\n",
       "      <th></th>\n",
       "      <th></th>\n",
       "    </tr>\n",
       "  </thead>\n",
       "  <tbody>\n",
       "    <tr>\n",
       "      <th>0</th>\n",
       "      <td>a141001</td>\n",
       "      <td>a141001</td>\n",
       "      <td>KICSOM VÉGE KISANY URGENT</td>\n",
       "      <td>LEE436</td>\n",
       "      <td>2020-04-24 12:27:16</td>\n",
       "      <td>2020-04-24 12:11:34</td>\n",
       "      <td>00:15:42</td>\n",
       "      <td>31</td>\n",
       "      <td>82.007</td>\n",
       "      <td>1.656e+06</td>\n",
       "      <td>70</td>\n",
       "      <td>15.700</td>\n",
       "    </tr>\n",
       "    <tr>\n",
       "      <th>1</th>\n",
       "      <td>a141001</td>\n",
       "      <td>a141001</td>\n",
       "      <td>KICSOM VÉGE KISANY URGENT</td>\n",
       "      <td>119384</td>\n",
       "      <td>2020-04-24 12:57:49</td>\n",
       "      <td>2020-04-24 12:28:30</td>\n",
       "      <td>00:29:19</td>\n",
       "      <td>51</td>\n",
       "      <td>57.239</td>\n",
       "      <td>2.222e+05</td>\n",
       "      <td>146</td>\n",
       "      <td>29.317</td>\n",
       "    </tr>\n",
       "    <tr>\n",
       "      <th>2</th>\n",
       "      <td>a141001</td>\n",
       "      <td>a141001</td>\n",
       "      <td>KICSOM VÉGE KISANY URGENT</td>\n",
       "      <td>LEE391</td>\n",
       "      <td>2020-04-24 13:13:24</td>\n",
       "      <td>2020-04-24 13:00:52</td>\n",
       "      <td>00:12:32</td>\n",
       "      <td>16</td>\n",
       "      <td>42.188</td>\n",
       "      <td>2.340e+05</td>\n",
       "      <td>28</td>\n",
       "      <td>12.533</td>\n",
       "    </tr>\n",
       "    <tr>\n",
       "      <th>3</th>\n",
       "      <td>a141001</td>\n",
       "      <td>a141001</td>\n",
       "      <td>KICSOM VÉGE KISANY URGENT</td>\n",
       "      <td>LEE397</td>\n",
       "      <td>2020-04-24 13:25:35</td>\n",
       "      <td>2020-04-24 13:13:31</td>\n",
       "      <td>00:12:04</td>\n",
       "      <td>14</td>\n",
       "      <td>53.676</td>\n",
       "      <td>2.977e+05</td>\n",
       "      <td>18</td>\n",
       "      <td>12.067</td>\n",
       "    </tr>\n",
       "    <tr>\n",
       "      <th>4</th>\n",
       "      <td>a141001</td>\n",
       "      <td>a141001</td>\n",
       "      <td>KICSOM VÉGE KISANY URGENT</td>\n",
       "      <td>119848</td>\n",
       "      <td>2020-04-24 14:00:13</td>\n",
       "      <td>2020-04-24 13:27:37</td>\n",
       "      <td>00:32:36</td>\n",
       "      <td>72</td>\n",
       "      <td>28.120</td>\n",
       "      <td>9.613e+04</td>\n",
       "      <td>264</td>\n",
       "      <td>32.600</td>\n",
       "    </tr>\n",
       "  </tbody>\n",
       "</table>\n",
       "</div>"
      ],
      "text/plain": [
       "        kezdAx  vegezAX                kicsAllapot   huid3       kicsomKezdDat        kicsomVegDat idotartam  sorok  totveight     totvol  totDara  percek\n",
       "index                                                                                                                                                     \n",
       "0      a141001  a141001  KICSOM VÉGE KISANY URGENT  LEE436 2020-04-24 12:27:16 2020-04-24 12:11:34  00:15:42     31     82.007  1.656e+06       70  15.700\n",
       "1      a141001  a141001  KICSOM VÉGE KISANY URGENT  119384 2020-04-24 12:57:49 2020-04-24 12:28:30  00:29:19     51     57.239  2.222e+05      146  29.317\n",
       "2      a141001  a141001  KICSOM VÉGE KISANY URGENT  LEE391 2020-04-24 13:13:24 2020-04-24 13:00:52  00:12:32     16     42.188  2.340e+05       28  12.533\n",
       "3      a141001  a141001  KICSOM VÉGE KISANY URGENT  LEE397 2020-04-24 13:25:35 2020-04-24 13:13:31  00:12:04     14     53.676  2.977e+05       18  12.067\n",
       "4      a141001  a141001  KICSOM VÉGE KISANY URGENT  119848 2020-04-24 14:00:13 2020-04-24 13:27:37  00:32:36     72     28.120  9.613e+04      264  32.600"
      ]
     },
     "execution_count": 58,
     "metadata": {},
     "output_type": "execute_result"
    }
   ],
   "source": [
    "df3.head()"
   ]
  },
  {
   "cell_type": "code",
   "execution_count": 59,
   "metadata": {},
   "outputs": [
    {
     "name": "stderr",
     "output_type": "stream",
     "text": [
      "<ipython-input-59-a61cbbdd3fd5>:1: SettingWithCopyWarning: \n",
      "A value is trying to be set on a copy of a slice from a DataFrame.\n",
      "Try using .loc[row_indexer,col_indexer] = value instead\n",
      "\n",
      "See the caveats in the documentation: https://pandas.pydata.org/pandas-docs/stable/user_guide/indexing.html#returning-a-view-versus-a-copy\n",
      "  df3['sor_per_ora'] = df3['sorok']/(df3['percek']/60)\n"
     ]
    }
   ],
   "source": [
    "df3['sor_per_ora'] = df3['sorok']/(df3['percek']/60)"
   ]
  },
  {
   "cell_type": "code",
   "execution_count": 60,
   "metadata": {},
   "outputs": [
    {
     "data": {
      "text/html": [
       "<div>\n",
       "<style scoped>\n",
       "    .dataframe tbody tr th:only-of-type {\n",
       "        vertical-align: middle;\n",
       "    }\n",
       "\n",
       "    .dataframe tbody tr th {\n",
       "        vertical-align: top;\n",
       "    }\n",
       "\n",
       "    .dataframe thead th {\n",
       "        text-align: right;\n",
       "    }\n",
       "</style>\n",
       "<table border=\"1\" class=\"dataframe\">\n",
       "  <thead>\n",
       "    <tr style=\"text-align: right;\">\n",
       "      <th></th>\n",
       "      <th>kezdAx</th>\n",
       "      <th>vegezAX</th>\n",
       "      <th>kicsAllapot</th>\n",
       "      <th>huid3</th>\n",
       "      <th>kicsomKezdDat</th>\n",
       "      <th>kicsomVegDat</th>\n",
       "      <th>idotartam</th>\n",
       "      <th>sorok</th>\n",
       "      <th>totveight</th>\n",
       "      <th>totvol</th>\n",
       "      <th>totDara</th>\n",
       "      <th>percek</th>\n",
       "      <th>sor_per_ora</th>\n",
       "    </tr>\n",
       "    <tr>\n",
       "      <th>index</th>\n",
       "      <th></th>\n",
       "      <th></th>\n",
       "      <th></th>\n",
       "      <th></th>\n",
       "      <th></th>\n",
       "      <th></th>\n",
       "      <th></th>\n",
       "      <th></th>\n",
       "      <th></th>\n",
       "      <th></th>\n",
       "      <th></th>\n",
       "      <th></th>\n",
       "      <th></th>\n",
       "    </tr>\n",
       "  </thead>\n",
       "  <tbody>\n",
       "    <tr>\n",
       "      <th>0</th>\n",
       "      <td>a141001</td>\n",
       "      <td>a141001</td>\n",
       "      <td>KICSOM VÉGE KISANY URGENT</td>\n",
       "      <td>LEE436</td>\n",
       "      <td>2020-04-24 12:27:16</td>\n",
       "      <td>2020-04-24 12:11:34</td>\n",
       "      <td>00:15:42</td>\n",
       "      <td>31</td>\n",
       "      <td>82.007</td>\n",
       "      <td>1.656e+06</td>\n",
       "      <td>70</td>\n",
       "      <td>15.700</td>\n",
       "      <td>118.471</td>\n",
       "    </tr>\n",
       "    <tr>\n",
       "      <th>1</th>\n",
       "      <td>a141001</td>\n",
       "      <td>a141001</td>\n",
       "      <td>KICSOM VÉGE KISANY URGENT</td>\n",
       "      <td>119384</td>\n",
       "      <td>2020-04-24 12:57:49</td>\n",
       "      <td>2020-04-24 12:28:30</td>\n",
       "      <td>00:29:19</td>\n",
       "      <td>51</td>\n",
       "      <td>57.239</td>\n",
       "      <td>2.222e+05</td>\n",
       "      <td>146</td>\n",
       "      <td>29.317</td>\n",
       "      <td>104.377</td>\n",
       "    </tr>\n",
       "    <tr>\n",
       "      <th>2</th>\n",
       "      <td>a141001</td>\n",
       "      <td>a141001</td>\n",
       "      <td>KICSOM VÉGE KISANY URGENT</td>\n",
       "      <td>LEE391</td>\n",
       "      <td>2020-04-24 13:13:24</td>\n",
       "      <td>2020-04-24 13:00:52</td>\n",
       "      <td>00:12:32</td>\n",
       "      <td>16</td>\n",
       "      <td>42.188</td>\n",
       "      <td>2.340e+05</td>\n",
       "      <td>28</td>\n",
       "      <td>12.533</td>\n",
       "      <td>76.596</td>\n",
       "    </tr>\n",
       "    <tr>\n",
       "      <th>3</th>\n",
       "      <td>a141001</td>\n",
       "      <td>a141001</td>\n",
       "      <td>KICSOM VÉGE KISANY URGENT</td>\n",
       "      <td>LEE397</td>\n",
       "      <td>2020-04-24 13:25:35</td>\n",
       "      <td>2020-04-24 13:13:31</td>\n",
       "      <td>00:12:04</td>\n",
       "      <td>14</td>\n",
       "      <td>53.676</td>\n",
       "      <td>2.977e+05</td>\n",
       "      <td>18</td>\n",
       "      <td>12.067</td>\n",
       "      <td>69.613</td>\n",
       "    </tr>\n",
       "    <tr>\n",
       "      <th>4</th>\n",
       "      <td>a141001</td>\n",
       "      <td>a141001</td>\n",
       "      <td>KICSOM VÉGE KISANY URGENT</td>\n",
       "      <td>119848</td>\n",
       "      <td>2020-04-24 14:00:13</td>\n",
       "      <td>2020-04-24 13:27:37</td>\n",
       "      <td>00:32:36</td>\n",
       "      <td>72</td>\n",
       "      <td>28.120</td>\n",
       "      <td>9.613e+04</td>\n",
       "      <td>264</td>\n",
       "      <td>32.600</td>\n",
       "      <td>132.515</td>\n",
       "    </tr>\n",
       "  </tbody>\n",
       "</table>\n",
       "</div>"
      ],
      "text/plain": [
       "        kezdAx  vegezAX                kicsAllapot   huid3       kicsomKezdDat        kicsomVegDat idotartam  sorok  totveight     totvol  totDara  percek  sor_per_ora\n",
       "index                                                                                                                                                                  \n",
       "0      a141001  a141001  KICSOM VÉGE KISANY URGENT  LEE436 2020-04-24 12:27:16 2020-04-24 12:11:34  00:15:42     31     82.007  1.656e+06       70  15.700      118.471\n",
       "1      a141001  a141001  KICSOM VÉGE KISANY URGENT  119384 2020-04-24 12:57:49 2020-04-24 12:28:30  00:29:19     51     57.239  2.222e+05      146  29.317      104.377\n",
       "2      a141001  a141001  KICSOM VÉGE KISANY URGENT  LEE391 2020-04-24 13:13:24 2020-04-24 13:00:52  00:12:32     16     42.188  2.340e+05       28  12.533       76.596\n",
       "3      a141001  a141001  KICSOM VÉGE KISANY URGENT  LEE397 2020-04-24 13:25:35 2020-04-24 13:13:31  00:12:04     14     53.676  2.977e+05       18  12.067       69.613\n",
       "4      a141001  a141001  KICSOM VÉGE KISANY URGENT  119848 2020-04-24 14:00:13 2020-04-24 13:27:37  00:32:36     72     28.120  9.613e+04      264  32.600      132.515"
      ]
     },
     "execution_count": 60,
     "metadata": {},
     "output_type": "execute_result"
    }
   ],
   "source": [
    "df3.head()"
   ]
  },
  {
   "cell_type": "code",
   "execution_count": 61,
   "metadata": {},
   "outputs": [
    {
     "name": "stderr",
     "output_type": "stream",
     "text": [
      "<ipython-input-61-b9de874df9ea>:1: SettingWithCopyWarning: \n",
      "A value is trying to be set on a copy of a slice from a DataFrame.\n",
      "Try using .loc[row_indexer,col_indexer] = value instead\n",
      "\n",
      "See the caveats in the documentation: https://pandas.pydata.org/pandas-docs/stable/user_guide/indexing.html#returning-a-view-versus-a-copy\n",
      "  df3['totvol'] = df3['totvol'] / 1000\n"
     ]
    }
   ],
   "source": [
    "df3['totvol'] = df3['totvol'] / 1000"
   ]
  },
  {
   "cell_type": "code",
   "execution_count": null,
   "metadata": {},
   "outputs": [],
   "source": []
  }
 ],
 "metadata": {
  "kernelspec": {
   "display_name": "Python 3",
   "language": "python",
   "name": "python3"
  },
  "language_info": {
   "codemirror_mode": {
    "name": "ipython",
    "version": 3
   },
   "file_extension": ".py",
   "mimetype": "text/x-python",
   "name": "python",
   "nbconvert_exporter": "python",
   "pygments_lexer": "ipython3",
   "version": "3.8.3"
  }
 },
 "nbformat": 4,
 "nbformat_minor": 4
}
